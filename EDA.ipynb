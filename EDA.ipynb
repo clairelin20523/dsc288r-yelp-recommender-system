{
 "cells": [
  {
   "cell_type": "markdown",
   "id": "7cc7b9a5-f9cc-42ae-ab97-67cc12fdeb0b",
   "metadata": {},
   "source": [
    "# Set-up"
   ]
  },
  {
   "cell_type": "markdown",
   "id": "0fdeb016-3a69-4637-af5b-c22837aa84fa",
   "metadata": {},
   "source": [
    "## Get Data from Kaggle"
   ]
  },
  {
   "cell_type": "code",
   "execution_count": 1,
   "id": "438e2f28-0c36-4865-a264-04cfaf1b5eb2",
   "metadata": {},
   "outputs": [],
   "source": [
    "#import kagglehub\n",
    "#import os\n",
    "#import shutil\n",
    "\n",
    "#current_directory = os.getcwd()\n",
    "#path = kagglehub.dataset_download(\"adamamer2001/yelp-complete-open-dataset-2024\")\n",
    "#dataset_path = os.path.join(path, \"yelp_dataset\") \n",
    "#for root, dirs, files in os.walk(dataset_path):\n",
    "#    for file in files:\n",
    "#        if file.endswith(\".json\"):\n",
    "#            shutil.move(os.path.join(root, file), os.path.join(current_directory, file))\n",
    "\n",
    "#print(\"Path to .json dataset files:\", current_directory)\n"
   ]
  },
  {
   "cell_type": "code",
   "execution_count": 2,
   "id": "6c938328-d8f4-460d-9b70-a53948c823fa",
   "metadata": {},
   "outputs": [],
   "source": [
    "#import os\n",
    "#import shutil\n",
    "\n",
    "#directory_path = \"/home/tindrieri/private/1/\"\n",
    "\n",
    "#if os.path.exists(directory_path):\n",
    "#    for file_name in os.listdir(directory_path):\n",
    "#        file_path = os.path.join(directory_path, file_name)\n",
    "#        if os.path.isfile(file_path):\n",
    "#            os.remove(file_path)\n",
    "#        elif os.path.isdir(file_path):\n",
    "#            shutil.rmtree(file_path) \n",
    "\n",
    "#    print(f\"All files in {directory_path} have been deleted.\")\n",
    "#else:\n",
    "#    print(f\"The directory {directory_path} does not exist.\")"
   ]
  },
  {
   "cell_type": "markdown",
   "id": "50df9aaa-f3c4-4fef-b9e5-bfe137384802",
   "metadata": {},
   "source": [
    "## Import Libraries"
   ]
  },
  {
   "cell_type": "code",
   "execution_count": 4,
   "id": "e89e23ab-afee-4f11-8e4a-5cf6949f8752",
   "metadata": {},
   "outputs": [],
   "source": [
    "import pandas as pd\n",
    "import numpy as np\n",
    "import seaborn as sns\n",
    "import plotly.express as px\n",
    "import matplotlib.pyplot as plt\n",
    "\n",
    "sns.set_style(\"whitegrid\")"
   ]
  },
  {
   "cell_type": "markdown",
   "id": "4848136f-0e5b-45c9-b408-9d9a871ca371",
   "metadata": {},
   "source": [
    "## Get Data"
   ]
  },
  {
   "cell_type": "code",
   "execution_count": 5,
   "id": "ccf01316-8e23-4eca-8dd8-99a09c5e3434",
   "metadata": {
    "scrolled": true
   },
   "outputs": [
    {
     "name": "stdout",
     "output_type": "stream",
     "text": [
      "              business_id                      name  \\\n",
      "0  Pns2l4eNsfO8kk83dixA6A  Abby Rappoport, LAC, CMQ   \n",
      "1  mpf3x-BjTdTEA3yCZrAYPw             The UPS Store   \n",
      "2  tUFrWirKiKi_TAnsVWINQQ                    Target   \n",
      "3  MTSW4McQd7CbVtyjqoe9mw        St Honore Pastries   \n",
      "4  mWMc6_wTdE0EUBKIGXDVfA  Perkiomen Valley Brewery   \n",
      "\n",
      "                           address           city state postal_code  \\\n",
      "0           1616 Chapala St, Ste 2  Santa Barbara    CA       93101   \n",
      "1  87 Grasso Plaza Shopping Center         Affton    MO       63123   \n",
      "2             5255 E Broadway Blvd         Tucson    AZ       85711   \n",
      "3                      935 Race St   Philadelphia    PA       19107   \n",
      "4                    101 Walnut St     Green Lane    PA       18054   \n",
      "\n",
      "    latitude   longitude  stars  review_count  is_open  \\\n",
      "0  34.426679 -119.711197    5.0             7        0   \n",
      "1  38.551126  -90.335695    3.0            15        1   \n",
      "2  32.223236 -110.880452    3.5            22        0   \n",
      "3  39.955505  -75.155564    4.0            80        1   \n",
      "4  40.338183  -75.471659    4.5            13        1   \n",
      "\n",
      "                                          attributes  \\\n",
      "0                      {'ByAppointmentOnly': 'True'}   \n",
      "1             {'BusinessAcceptsCreditCards': 'True'}   \n",
      "2  {'BikeParking': 'True', 'BusinessAcceptsCredit...   \n",
      "3  {'RestaurantsDelivery': 'False', 'OutdoorSeati...   \n",
      "4  {'BusinessAcceptsCreditCards': 'True', 'Wheelc...   \n",
      "\n",
      "                                          categories  \\\n",
      "0  Doctors, Traditional Chinese Medicine, Naturop...   \n",
      "1  Shipping Centers, Local Services, Notaries, Ma...   \n",
      "2  Department Stores, Shopping, Fashion, Home & G...   \n",
      "3  Restaurants, Food, Bubble Tea, Coffee & Tea, B...   \n",
      "4                          Brewpubs, Breweries, Food   \n",
      "\n",
      "                                               hours  \n",
      "0                                               None  \n",
      "1  {'Monday': '0:0-0:0', 'Tuesday': '8:0-18:30', ...  \n",
      "2  {'Monday': '8:0-22:0', 'Tuesday': '8:0-22:0', ...  \n",
      "3  {'Monday': '7:0-20:0', 'Tuesday': '7:0-20:0', ...  \n",
      "4  {'Wednesday': '14:0-22:0', 'Thursday': '16:0-2...  \n"
     ]
    }
   ],
   "source": [
    "file_path = 'yelp_academic_dataset_business.json'\n",
    "\n",
    "df_business_data = pd.read_json(file_path, lines=True)\n",
    "print(df_business_data.head())"
   ]
  },
  {
   "cell_type": "code",
   "execution_count": 6,
   "id": "ed0bad4d-231a-417e-b2ce-95b11d8e8665",
   "metadata": {},
   "outputs": [
    {
     "name": "stdout",
     "output_type": "stream",
     "text": [
      "              business_id                                               date\n",
      "0  ---kPU91CF4Lq2-WlRu9Lw  2020-03-13 21:10:56, 2020-06-02 22:18:06, 2020...\n",
      "1  --0iUa4sNDFiZFrAdIWhZQ  2010-09-13 21:43:09, 2011-05-04 23:08:15, 2011...\n",
      "2  --30_8IhuyMHbSOcNWd6DQ           2013-06-14 23:29:17, 2014-08-13 23:20:22\n",
      "3  --7PUidqRWpRSpXebiyxTg  2011-02-15 17:12:00, 2011-07-28 02:46:10, 2012...\n",
      "4  --7jw19RH9JKXgFohspgQw  2014-04-21 20:42:11, 2014-04-28 21:04:46, 2014...\n"
     ]
    }
   ],
   "source": [
    "file_path = 'yelp_academic_dataset_checkin.json'\n",
    "\n",
    "df_checkin_data = pd.read_json(file_path, lines=True)\n",
    "print(df_checkin_data.head())"
   ]
  },
  {
   "cell_type": "code",
   "execution_count": 7,
   "id": "46d1fb6f-2f57-43fb-9483-864de2fd27b4",
   "metadata": {},
   "outputs": [
    {
     "name": "stdout",
     "output_type": "stream",
     "text": [
      "                review_id                 user_id             business_id  \\\n",
      "0  KU_O5udG6zpxOg-VcAEodg  mh_-eMZ6K5RLWhZyISBhwA  XQfwVwDr-v0ZS3_CbbE5Xw   \n",
      "1  BiTunyQ73aT9WBnpR9DZGw  OyoGAe7OKpv6SyGZT5g77Q  7ATYjTIgM3jUlt4UM3IypQ   \n",
      "2  saUsX_uimxRlCVr67Z4Jig  8g_iMtfSiwikVnbP2etR0A  YjUWPpI6HXG530lwP-fb2A   \n",
      "3  AqPFMleE6RsU23_auESxiA  _7bHUi9Uuf5__HHc_Q8guQ  kxX2SOes4o-D3ZQBkiMRfA   \n",
      "4  Sx8TMOWLNuJBWer-0pcmoA  bcjbaE6dDog4jkNY91ncLQ  e4Vwtrqf-wpJfwesgvdgxQ   \n",
      "\n",
      "   stars  useful  funny  cool  \\\n",
      "0      3       0      0     0   \n",
      "1      5       1      0     1   \n",
      "2      3       0      0     0   \n",
      "3      5       1      0     1   \n",
      "4      4       1      0     1   \n",
      "\n",
      "                                                text                date  \n",
      "0  If you decide to eat here, just be aware it is... 2018-07-07 22:09:11  \n",
      "1  I've taken a lot of spin classes over the year... 2012-01-03 15:28:18  \n",
      "2  Family diner. Had the buffet. Eclectic assortm... 2014-02-05 20:30:30  \n",
      "3  Wow!  Yummy, different,  delicious.   Our favo... 2015-01-04 00:01:03  \n",
      "4  Cute interior and owner (?) gave us tour of up... 2017-01-14 20:54:15  \n"
     ]
    }
   ],
   "source": [
    "file_path = 'yelp_academic_dataset_review.json'\n",
    "\n",
    "chunk_size = 100000\n",
    "chunks = []\n",
    "for chunk in pd.read_json(file_path, lines=True, chunksize=chunk_size):\n",
    "    chunks.append(chunk)\n",
    "\n",
    "df_review_data = pd.concat(chunks, ignore_index=True)\n",
    "\n",
    "print(df_review_data.head())"
   ]
  },
  {
   "cell_type": "code",
   "execution_count": 8,
   "id": "cb8a6031-f129-4111-bd0c-c22c3409b0e3",
   "metadata": {},
   "outputs": [
    {
     "name": "stdout",
     "output_type": "stream",
     "text": [
      "                  user_id             business_id  \\\n",
      "0  AGNUgVwnZUey3gcPCJ76iw  3uLgwr0qeCNMjKenHJwPGQ   \n",
      "1  NBN4MgHP9D3cw--SnauTkA  QoezRbYQncpRqyrLH6Iqjg   \n",
      "2  -copOvldyKh1qr-vzkDEvw  MYoRNLb5chwjQe3c_k37Gg   \n",
      "3  FjMQVZjSqY8syIO-53KFKw  hV-bABTK-glh5wj31ps_Jw   \n",
      "4  ld0AperBXk1h6UbqmM80zw  _uN0OudeJ3Zl_tf6nxg5ww   \n",
      "\n",
      "                                                text                date  \\\n",
      "0                     Avengers time with the ladies. 2012-05-18 02:17:21   \n",
      "1  They have lots of good deserts and tasty cuban... 2013-02-05 18:35:10   \n",
      "2             It's open even when you think it isn't 2013-08-18 00:56:08   \n",
      "3                          Very decent fried chicken 2017-06-27 23:05:38   \n",
      "4             Appetizers.. platter special for lunch 2012-10-06 19:43:09   \n",
      "\n",
      "   compliment_count  \n",
      "0                 0  \n",
      "1                 0  \n",
      "2                 0  \n",
      "3                 0  \n",
      "4                 0  \n"
     ]
    }
   ],
   "source": [
    "file_path = 'yelp_academic_dataset_tip.json'\n",
    "\n",
    "df_tip_data = pd.read_json(file_path, lines=True)\n",
    "print(df_tip_data.head())"
   ]
  },
  {
   "cell_type": "code",
   "execution_count": 9,
   "id": "35068c56-3126-40f0-be26-b437c778102d",
   "metadata": {},
   "outputs": [
    {
     "name": "stdout",
     "output_type": "stream",
     "text": [
      "                  user_id    name  review_count        yelping_since  useful  \\\n",
      "0  qVc8ODYU5SZjKXVBgXdI7w  Walker           585  2007-01-25 16:47:26    7217   \n",
      "1  j14WgRoU_-2ZE1aw1dXrJg  Daniel          4333  2009-01-25 04:35:42   43091   \n",
      "2  2WnXYQFK0hXEoTxPtV2zvg   Steph           665  2008-07-25 10:41:00    2086   \n",
      "3  SZDeASXq7o05mMNLshsdIA    Gwen           224  2005-11-29 04:38:33     512   \n",
      "4  hA5lMy-EnncsH4JoR-hFGQ   Karen            79  2007-01-05 19:40:59      29   \n",
      "\n",
      "   funny   cool                                              elite  \\\n",
      "0   1259   5994                                               2007   \n",
      "1  13066  27281  2009,2010,2011,2012,2013,2014,2015,2016,2017,2...   \n",
      "2   1010   1003                           2009,2010,2011,2012,2013   \n",
      "3    330    299                                     2009,2010,2011   \n",
      "4     15      7                                                      \n",
      "\n",
      "                                             friends  fans  ...  \\\n",
      "0  NSCy54eWehBJyZdG2iE84w, pe42u7DcCH2QmI81NX-8qA...   267  ...   \n",
      "1  ueRPE0CX75ePGMqOFVj6IQ, 52oH4DrRvzzl8wh5UXyU0A...  3138  ...   \n",
      "2  LuO3Bn4f3rlhyHIaNfTlnA, j9B4XdHUhDfTKVecyWQgyA...    52  ...   \n",
      "3  enx1vVPnfdNUdPho6PH_wg, 4wOcvMLtU6a9Lslggq74Vg...    28  ...   \n",
      "4  PBK4q9KEEBHhFvSXCUirIw, 3FWPpM7KU1gXeOM_ZbYMbA...     1  ...   \n",
      "\n",
      "   compliment_more  compliment_profile  compliment_cute  compliment_list  \\\n",
      "0               65                  55               56               18   \n",
      "1              264                 184              157              251   \n",
      "2               13                  10               17                3   \n",
      "3                4                   1                6                2   \n",
      "4                1                   0                0                0   \n",
      "\n",
      "   compliment_note  compliment_plain  compliment_cool  compliment_funny  \\\n",
      "0              232               844              467               467   \n",
      "1             1847              7054             3131              3131   \n",
      "2               66                96              119               119   \n",
      "3               12                16               26                26   \n",
      "4                1                 1                0                 0   \n",
      "\n",
      "   compliment_writer  compliment_photos  \n",
      "0                239                180  \n",
      "1               1521               1946  \n",
      "2                 35                 18  \n",
      "3                 10                  9  \n",
      "4                  0                  0  \n",
      "\n",
      "[5 rows x 22 columns]\n"
     ]
    }
   ],
   "source": [
    "file_path = 'yelp_academic_dataset_user.json'\n",
    "\n",
    "\n",
    "chunk_size = 100000\n",
    "chunks = []\n",
    "for chunk in pd.read_json(file_path, lines=True, chunksize=chunk_size):\n",
    "    chunks.append(chunk)\n",
    "\n",
    "df_user_data = pd.concat(chunks, ignore_index=True)\n",
    "\n",
    "print(df_user_data.head())"
   ]
  },
  {
   "cell_type": "markdown",
   "id": "18b290b1-7ade-4ded-9af2-b5be8be714b3",
   "metadata": {},
   "source": [
    "# Data Exploration"
   ]
  },
  {
   "cell_type": "markdown",
   "id": "9156d5a9-636e-4462-a779-417bb0689872",
   "metadata": {},
   "source": [
    "## Helper methods"
   ]
  },
  {
   "cell_type": "code",
   "execution_count": 10,
   "id": "7122209e-4b41-4c35-9752-dbecd4efff87",
   "metadata": {},
   "outputs": [],
   "source": [
    "def print_num_cols(df):\n",
    "    \"\"\"\n",
    "    Get number of columns\n",
    "    \"\"\"\n",
    "    num_cols = len(df.columns)\n",
    "    print('There is a total of %d columns' % num_cols)"
   ]
  },
  {
   "cell_type": "code",
   "execution_count": 11,
   "id": "5f663846-3d99-4044-96bd-4aa570f38e50",
   "metadata": {},
   "outputs": [],
   "source": [
    "def print_num_missing(df):\n",
    "    \"\"\"\n",
    "    Get number of missing values for each column\n",
    "    \"\"\"\n",
    "    columns = df.columns\n",
    "    num_cols = len(columns)\n",
    "    for i in range(num_cols):\n",
    "        missing = df[columns[i]].isnull().sum()\n",
    "        print(\"'{}' column has {} missing values\".format(columns[i], missing))"
   ]
  },
  {
   "cell_type": "code",
   "execution_count": 12,
   "id": "9a9e275a-c342-4c33-860c-ff9aea4a25ac",
   "metadata": {},
   "outputs": [],
   "source": [
    "def print_types(df):\n",
    "    \"\"\"\n",
    "    \"\"\"\n",
    "    data_types = df.dtypes\n",
    "    columns = df.columns\n",
    "    num_cols = len(columns)\n",
    "    for i in range(num_cols):\n",
    "        print(\"'%s' column is of type '%s'\" % (columns[i], data_types.iloc[i]))"
   ]
  },
  {
   "cell_type": "markdown",
   "id": "a2dc9bc3-f981-48d6-ad4f-fe8e9eab06e7",
   "metadata": {},
   "source": [
    "## List of DFs\n",
    "* df_business_data\n",
    "* df_checkin_data\n",
    "* df_review_data\n",
    "* df_tip_data\n",
    "* df_user_data"
   ]
  },
  {
   "cell_type": "markdown",
   "id": "e4a7611d-f701-499d-ae61-ffd5a336d450",
   "metadata": {},
   "source": [
    "### Business Data"
   ]
  },
  {
   "cell_type": "code",
   "execution_count": 12,
   "id": "b80ca3ac-0b2f-48d9-975a-68cdf67986ca",
   "metadata": {},
   "outputs": [
    {
     "name": "stdout",
     "output_type": "stream",
     "text": [
      "There is a total of 150346 businesses\n"
     ]
    }
   ],
   "source": [
    "num_business = len(df_business_data)\n",
    "print('There is a total of %s businesses' % num_business)"
   ]
  },
  {
   "cell_type": "code",
   "execution_count": 13,
   "id": "f3101082-5a6b-4e5d-a1f6-70f2521ad959",
   "metadata": {},
   "outputs": [
    {
     "data": {
      "text/html": [
       "<div>\n",
       "<style scoped>\n",
       "    .dataframe tbody tr th:only-of-type {\n",
       "        vertical-align: middle;\n",
       "    }\n",
       "\n",
       "    .dataframe tbody tr th {\n",
       "        vertical-align: top;\n",
       "    }\n",
       "\n",
       "    .dataframe thead th {\n",
       "        text-align: right;\n",
       "    }\n",
       "</style>\n",
       "<table border=\"1\" class=\"dataframe\">\n",
       "  <thead>\n",
       "    <tr style=\"text-align: right;\">\n",
       "      <th></th>\n",
       "      <th>latitude</th>\n",
       "      <th>longitude</th>\n",
       "      <th>stars</th>\n",
       "      <th>review_count</th>\n",
       "      <th>is_open</th>\n",
       "    </tr>\n",
       "  </thead>\n",
       "  <tbody>\n",
       "    <tr>\n",
       "      <th>count</th>\n",
       "      <td>150346.000000</td>\n",
       "      <td>150346.000000</td>\n",
       "      <td>150346.000000</td>\n",
       "      <td>150346.000000</td>\n",
       "      <td>150346.00000</td>\n",
       "    </tr>\n",
       "    <tr>\n",
       "      <th>mean</th>\n",
       "      <td>36.671150</td>\n",
       "      <td>-89.357339</td>\n",
       "      <td>3.596724</td>\n",
       "      <td>44.866561</td>\n",
       "      <td>0.79615</td>\n",
       "    </tr>\n",
       "    <tr>\n",
       "      <th>std</th>\n",
       "      <td>5.872759</td>\n",
       "      <td>14.918502</td>\n",
       "      <td>0.974421</td>\n",
       "      <td>121.120136</td>\n",
       "      <td>0.40286</td>\n",
       "    </tr>\n",
       "    <tr>\n",
       "      <th>min</th>\n",
       "      <td>27.555127</td>\n",
       "      <td>-120.095137</td>\n",
       "      <td>1.000000</td>\n",
       "      <td>5.000000</td>\n",
       "      <td>0.00000</td>\n",
       "    </tr>\n",
       "    <tr>\n",
       "      <th>25%</th>\n",
       "      <td>32.187293</td>\n",
       "      <td>-90.357810</td>\n",
       "      <td>3.000000</td>\n",
       "      <td>8.000000</td>\n",
       "      <td>1.00000</td>\n",
       "    </tr>\n",
       "    <tr>\n",
       "      <th>50%</th>\n",
       "      <td>38.777413</td>\n",
       "      <td>-86.121179</td>\n",
       "      <td>3.500000</td>\n",
       "      <td>15.000000</td>\n",
       "      <td>1.00000</td>\n",
       "    </tr>\n",
       "    <tr>\n",
       "      <th>75%</th>\n",
       "      <td>39.954036</td>\n",
       "      <td>-75.421542</td>\n",
       "      <td>4.500000</td>\n",
       "      <td>37.000000</td>\n",
       "      <td>1.00000</td>\n",
       "    </tr>\n",
       "    <tr>\n",
       "      <th>max</th>\n",
       "      <td>53.679197</td>\n",
       "      <td>-73.200457</td>\n",
       "      <td>5.000000</td>\n",
       "      <td>7568.000000</td>\n",
       "      <td>1.00000</td>\n",
       "    </tr>\n",
       "  </tbody>\n",
       "</table>\n",
       "</div>"
      ],
      "text/plain": [
       "            latitude      longitude          stars   review_count  \\\n",
       "count  150346.000000  150346.000000  150346.000000  150346.000000   \n",
       "mean       36.671150     -89.357339       3.596724      44.866561   \n",
       "std         5.872759      14.918502       0.974421     121.120136   \n",
       "min        27.555127    -120.095137       1.000000       5.000000   \n",
       "25%        32.187293     -90.357810       3.000000       8.000000   \n",
       "50%        38.777413     -86.121179       3.500000      15.000000   \n",
       "75%        39.954036     -75.421542       4.500000      37.000000   \n",
       "max        53.679197     -73.200457       5.000000    7568.000000   \n",
       "\n",
       "            is_open  \n",
       "count  150346.00000  \n",
       "mean        0.79615  \n",
       "std         0.40286  \n",
       "min         0.00000  \n",
       "25%         1.00000  \n",
       "50%         1.00000  \n",
       "75%         1.00000  \n",
       "max         1.00000  "
      ]
     },
     "execution_count": 13,
     "metadata": {},
     "output_type": "execute_result"
    }
   ],
   "source": [
    "df_business_data.describe()"
   ]
  },
  {
   "cell_type": "code",
   "execution_count": 14,
   "id": "398f3fa2-06a3-45c2-967a-7272b529e335",
   "metadata": {},
   "outputs": [
    {
     "name": "stdout",
     "output_type": "stream",
     "text": [
      "There is a total of 14 columns\n"
     ]
    }
   ],
   "source": [
    "print_num_cols(df_business_data)"
   ]
  },
  {
   "cell_type": "code",
   "execution_count": 15,
   "id": "bf5c7bdf-5d54-432c-bb24-c6c32497ce1d",
   "metadata": {},
   "outputs": [
    {
     "name": "stdout",
     "output_type": "stream",
     "text": [
      "'business_id' column has 0 missing values\n",
      "'name' column has 0 missing values\n",
      "'address' column has 0 missing values\n",
      "'city' column has 0 missing values\n",
      "'state' column has 0 missing values\n",
      "'postal_code' column has 0 missing values\n",
      "'latitude' column has 0 missing values\n",
      "'longitude' column has 0 missing values\n",
      "'stars' column has 0 missing values\n",
      "'review_count' column has 0 missing values\n",
      "'is_open' column has 0 missing values\n",
      "'attributes' column has 13744 missing values\n",
      "'categories' column has 103 missing values\n",
      "'hours' column has 23223 missing values\n"
     ]
    }
   ],
   "source": [
    "print_num_missing(df_business_data)"
   ]
  },
  {
   "cell_type": "code",
   "execution_count": 16,
   "id": "968cfaa0-9c8d-45e5-91a9-01fb9fcba78e",
   "metadata": {},
   "outputs": [
    {
     "name": "stdout",
     "output_type": "stream",
     "text": [
      "'business_id' column is of type 'object'\n",
      "'name' column is of type 'object'\n",
      "'address' column is of type 'object'\n",
      "'city' column is of type 'object'\n",
      "'state' column is of type 'object'\n",
      "'postal_code' column is of type 'object'\n",
      "'latitude' column is of type 'float64'\n",
      "'longitude' column is of type 'float64'\n",
      "'stars' column is of type 'float64'\n",
      "'review_count' column is of type 'int64'\n",
      "'is_open' column is of type 'int64'\n",
      "'attributes' column is of type 'object'\n",
      "'categories' column is of type 'object'\n",
      "'hours' column is of type 'object'\n"
     ]
    }
   ],
   "source": [
    "print_types(df_business_data)"
   ]
  },
  {
   "cell_type": "code",
   "execution_count": 17,
   "id": "be6bcf3b-e11d-4588-bb9b-64fe09e452c4",
   "metadata": {},
   "outputs": [],
   "source": [
    "df_business_data = df_business_data.astype({\n",
    "    \"business_id\": str,\n",
    "    \"name\": str,\n",
    "    \"address\": str,\n",
    "    \"city\": str,\n",
    "    \"state\": str,\n",
    "    \"postal_code\": str,\n",
    "    \"is_open\": bool,\n",
    "    \"attributes\": str,\n",
    "    \"categories\": str,\n",
    "    \"hours\": str\n",
    "})"
   ]
  },
  {
   "cell_type": "markdown",
   "id": "18c9417a-0f36-4023-964c-fe73a92ca8e4",
   "metadata": {},
   "source": [
    "### Check In Data"
   ]
  },
  {
   "cell_type": "code",
   "execution_count": 18,
   "id": "4a5b000f-2f5c-4ec1-91ef-ac7d790894ce",
   "metadata": {},
   "outputs": [
    {
     "name": "stdout",
     "output_type": "stream",
     "text": [
      "There is a total of 131930 check-ins\n"
     ]
    }
   ],
   "source": [
    "num_checkin = len(df_checkin_data)\n",
    "print('There is a total of %s check-ins' % num_checkin)"
   ]
  },
  {
   "cell_type": "markdown",
   "id": "67562af0-a6b9-42be-89ee-ab984b672281",
   "metadata": {},
   "source": [
    "### Review Data"
   ]
  },
  {
   "cell_type": "code",
   "execution_count": 19,
   "id": "2d028a89-0e95-42e7-8f4a-47b94abd178e",
   "metadata": {},
   "outputs": [
    {
     "name": "stdout",
     "output_type": "stream",
     "text": [
      "There is a total of 6990280 reviews\n"
     ]
    }
   ],
   "source": [
    "num_reviews = len(df_review_data)\n",
    "print('There is a total of %s reviews' % num_reviews)"
   ]
  },
  {
   "cell_type": "code",
   "execution_count": 20,
   "id": "17a23044-3368-49e6-b3c3-48824078d73a",
   "metadata": {},
   "outputs": [
    {
     "data": {
      "text/html": [
       "<div>\n",
       "<style scoped>\n",
       "    .dataframe tbody tr th:only-of-type {\n",
       "        vertical-align: middle;\n",
       "    }\n",
       "\n",
       "    .dataframe tbody tr th {\n",
       "        vertical-align: top;\n",
       "    }\n",
       "\n",
       "    .dataframe thead th {\n",
       "        text-align: right;\n",
       "    }\n",
       "</style>\n",
       "<table border=\"1\" class=\"dataframe\">\n",
       "  <thead>\n",
       "    <tr style=\"text-align: right;\">\n",
       "      <th></th>\n",
       "      <th>stars</th>\n",
       "      <th>useful</th>\n",
       "      <th>funny</th>\n",
       "      <th>cool</th>\n",
       "      <th>date</th>\n",
       "    </tr>\n",
       "  </thead>\n",
       "  <tbody>\n",
       "    <tr>\n",
       "      <th>count</th>\n",
       "      <td>6.990280e+06</td>\n",
       "      <td>6.990280e+06</td>\n",
       "      <td>6.990280e+06</td>\n",
       "      <td>6.990280e+06</td>\n",
       "      <td>6990280</td>\n",
       "    </tr>\n",
       "    <tr>\n",
       "      <th>mean</th>\n",
       "      <td>3.748584e+00</td>\n",
       "      <td>1.184609e+00</td>\n",
       "      <td>3.265596e-01</td>\n",
       "      <td>4.986175e-01</td>\n",
       "      <td>2017-01-11 11:22:33.441780992</td>\n",
       "    </tr>\n",
       "    <tr>\n",
       "      <th>min</th>\n",
       "      <td>1.000000e+00</td>\n",
       "      <td>-1.000000e+00</td>\n",
       "      <td>-1.000000e+00</td>\n",
       "      <td>-1.000000e+00</td>\n",
       "      <td>2005-02-16 03:23:22</td>\n",
       "    </tr>\n",
       "    <tr>\n",
       "      <th>25%</th>\n",
       "      <td>3.000000e+00</td>\n",
       "      <td>0.000000e+00</td>\n",
       "      <td>0.000000e+00</td>\n",
       "      <td>0.000000e+00</td>\n",
       "      <td>2015-01-25 04:53:50.249999872</td>\n",
       "    </tr>\n",
       "    <tr>\n",
       "      <th>50%</th>\n",
       "      <td>4.000000e+00</td>\n",
       "      <td>0.000000e+00</td>\n",
       "      <td>0.000000e+00</td>\n",
       "      <td>0.000000e+00</td>\n",
       "      <td>2017-06-03 01:26:07</td>\n",
       "    </tr>\n",
       "    <tr>\n",
       "      <th>75%</th>\n",
       "      <td>5.000000e+00</td>\n",
       "      <td>1.000000e+00</td>\n",
       "      <td>0.000000e+00</td>\n",
       "      <td>0.000000e+00</td>\n",
       "      <td>2019-05-23 00:02:46.249999872</td>\n",
       "    </tr>\n",
       "    <tr>\n",
       "      <th>max</th>\n",
       "      <td>5.000000e+00</td>\n",
       "      <td>1.182000e+03</td>\n",
       "      <td>7.920000e+02</td>\n",
       "      <td>4.040000e+02</td>\n",
       "      <td>2022-01-19 19:48:45</td>\n",
       "    </tr>\n",
       "    <tr>\n",
       "      <th>std</th>\n",
       "      <td>1.478705e+00</td>\n",
       "      <td>3.253767e+00</td>\n",
       "      <td>1.688729e+00</td>\n",
       "      <td>2.172460e+00</td>\n",
       "      <td>NaN</td>\n",
       "    </tr>\n",
       "  </tbody>\n",
       "</table>\n",
       "</div>"
      ],
      "text/plain": [
       "              stars        useful         funny          cool  \\\n",
       "count  6.990280e+06  6.990280e+06  6.990280e+06  6.990280e+06   \n",
       "mean   3.748584e+00  1.184609e+00  3.265596e-01  4.986175e-01   \n",
       "min    1.000000e+00 -1.000000e+00 -1.000000e+00 -1.000000e+00   \n",
       "25%    3.000000e+00  0.000000e+00  0.000000e+00  0.000000e+00   \n",
       "50%    4.000000e+00  0.000000e+00  0.000000e+00  0.000000e+00   \n",
       "75%    5.000000e+00  1.000000e+00  0.000000e+00  0.000000e+00   \n",
       "max    5.000000e+00  1.182000e+03  7.920000e+02  4.040000e+02   \n",
       "std    1.478705e+00  3.253767e+00  1.688729e+00  2.172460e+00   \n",
       "\n",
       "                                date  \n",
       "count                        6990280  \n",
       "mean   2017-01-11 11:22:33.441780992  \n",
       "min              2005-02-16 03:23:22  \n",
       "25%    2015-01-25 04:53:50.249999872  \n",
       "50%              2017-06-03 01:26:07  \n",
       "75%    2019-05-23 00:02:46.249999872  \n",
       "max              2022-01-19 19:48:45  \n",
       "std                              NaN  "
      ]
     },
     "execution_count": 20,
     "metadata": {},
     "output_type": "execute_result"
    }
   ],
   "source": [
    "df_review_data.describe()"
   ]
  },
  {
   "cell_type": "code",
   "execution_count": 21,
   "id": "a002e5a7-249e-447a-b84b-11307549c224",
   "metadata": {},
   "outputs": [
    {
     "name": "stdout",
     "output_type": "stream",
     "text": [
      "There is a total of 9 columns\n"
     ]
    }
   ],
   "source": [
    "print_num_cols(df_review_data)"
   ]
  },
  {
   "cell_type": "code",
   "execution_count": 22,
   "id": "561091ec-8954-4245-b282-2c46ea5f9d5d",
   "metadata": {},
   "outputs": [
    {
     "name": "stdout",
     "output_type": "stream",
     "text": [
      "'review_id' column has 0 missing values\n",
      "'user_id' column has 0 missing values\n",
      "'business_id' column has 0 missing values\n",
      "'stars' column has 0 missing values\n",
      "'useful' column has 0 missing values\n",
      "'funny' column has 0 missing values\n",
      "'cool' column has 0 missing values\n",
      "'text' column has 0 missing values\n",
      "'date' column has 0 missing values\n"
     ]
    }
   ],
   "source": [
    "print_num_missing(df_review_data)"
   ]
  },
  {
   "cell_type": "code",
   "execution_count": 23,
   "id": "23990a07-e5ce-474d-9dc5-3a1fc28bd62b",
   "metadata": {},
   "outputs": [
    {
     "name": "stdout",
     "output_type": "stream",
     "text": [
      "'review_id' column is of type 'object'\n",
      "'user_id' column is of type 'object'\n",
      "'business_id' column is of type 'object'\n",
      "'stars' column is of type 'int64'\n",
      "'useful' column is of type 'int64'\n",
      "'funny' column is of type 'int64'\n",
      "'cool' column is of type 'int64'\n",
      "'text' column is of type 'object'\n",
      "'date' column is of type 'datetime64[ns]'\n"
     ]
    }
   ],
   "source": [
    "print_types(df_review_data)"
   ]
  },
  {
   "cell_type": "code",
   "execution_count": 24,
   "id": "14739f49-fc17-4f56-9ef0-852c74fcdc78",
   "metadata": {},
   "outputs": [],
   "source": [
    "df_review_data = df_review_data.astype({\n",
    "    \"review_id\": str,\n",
    "    \"user_id\": str,\n",
    "    \"business_id\": str,\n",
    "    \"text\": str\n",
    "})"
   ]
  },
  {
   "cell_type": "markdown",
   "id": "ad78bd8b-d4b3-46ca-a30e-ce6903ff7c6c",
   "metadata": {},
   "source": [
    "### Tip Data"
   ]
  },
  {
   "cell_type": "code",
   "execution_count": 25,
   "id": "6862f43b-13ef-4c6b-803a-7c50ee93a6e1",
   "metadata": {},
   "outputs": [
    {
     "name": "stdout",
     "output_type": "stream",
     "text": [
      "There is a total of 908915 tips\n"
     ]
    }
   ],
   "source": [
    "num_tips = len(df_tip_data)\n",
    "print('There is a total of %s tips' % num_tips)"
   ]
  },
  {
   "cell_type": "markdown",
   "id": "7b38df07-4f77-45ef-88cb-ea967c380291",
   "metadata": {},
   "source": [
    "### User Data"
   ]
  },
  {
   "cell_type": "code",
   "execution_count": 26,
   "id": "1e59d4f4-b9a8-45c4-8d27-48493578c59a",
   "metadata": {},
   "outputs": [
    {
     "name": "stdout",
     "output_type": "stream",
     "text": [
      "There is a total of 1987897 users\n"
     ]
    }
   ],
   "source": [
    "num_users = len(df_user_data)\n",
    "print('There is a total of %s users' % num_users)"
   ]
  },
  {
   "cell_type": "code",
   "execution_count": 27,
   "id": "38999bfc-a4d1-4e0d-873c-984e9cc09861",
   "metadata": {},
   "outputs": [
    {
     "data": {
      "text/html": [
       "<div>\n",
       "<style scoped>\n",
       "    .dataframe tbody tr th:only-of-type {\n",
       "        vertical-align: middle;\n",
       "    }\n",
       "\n",
       "    .dataframe tbody tr th {\n",
       "        vertical-align: top;\n",
       "    }\n",
       "\n",
       "    .dataframe thead th {\n",
       "        text-align: right;\n",
       "    }\n",
       "</style>\n",
       "<table border=\"1\" class=\"dataframe\">\n",
       "  <thead>\n",
       "    <tr style=\"text-align: right;\">\n",
       "      <th></th>\n",
       "      <th>review_count</th>\n",
       "      <th>useful</th>\n",
       "      <th>funny</th>\n",
       "      <th>cool</th>\n",
       "      <th>fans</th>\n",
       "      <th>average_stars</th>\n",
       "      <th>compliment_hot</th>\n",
       "      <th>compliment_more</th>\n",
       "      <th>compliment_profile</th>\n",
       "      <th>compliment_cute</th>\n",
       "      <th>compliment_list</th>\n",
       "      <th>compliment_note</th>\n",
       "      <th>compliment_plain</th>\n",
       "      <th>compliment_cool</th>\n",
       "      <th>compliment_funny</th>\n",
       "      <th>compliment_writer</th>\n",
       "      <th>compliment_photos</th>\n",
       "    </tr>\n",
       "  </thead>\n",
       "  <tbody>\n",
       "    <tr>\n",
       "      <th>count</th>\n",
       "      <td>1.987897e+06</td>\n",
       "      <td>1.987897e+06</td>\n",
       "      <td>1.987897e+06</td>\n",
       "      <td>1.987897e+06</td>\n",
       "      <td>1.987897e+06</td>\n",
       "      <td>1.987897e+06</td>\n",
       "      <td>1.987897e+06</td>\n",
       "      <td>1.987897e+06</td>\n",
       "      <td>1.987897e+06</td>\n",
       "      <td>1.987897e+06</td>\n",
       "      <td>1.987897e+06</td>\n",
       "      <td>1.987897e+06</td>\n",
       "      <td>1.987897e+06</td>\n",
       "      <td>1.987897e+06</td>\n",
       "      <td>1.987897e+06</td>\n",
       "      <td>1.987897e+06</td>\n",
       "      <td>1.987897e+06</td>\n",
       "    </tr>\n",
       "    <tr>\n",
       "      <th>mean</th>\n",
       "      <td>2.339441e+01</td>\n",
       "      <td>4.229634e+01</td>\n",
       "      <td>1.697054e+01</td>\n",
       "      <td>2.379291e+01</td>\n",
       "      <td>1.465740e+00</td>\n",
       "      <td>3.630494e+00</td>\n",
       "      <td>1.807072e+00</td>\n",
       "      <td>2.922631e-01</td>\n",
       "      <td>1.793176e-01</td>\n",
       "      <td>1.336493e-01</td>\n",
       "      <td>6.390723e-02</td>\n",
       "      <td>1.443135e+00</td>\n",
       "      <td>3.011841e+00</td>\n",
       "      <td>2.829308e+00</td>\n",
       "      <td>2.829308e+00</td>\n",
       "      <td>1.056448e+00</td>\n",
       "      <td>1.226859e+00</td>\n",
       "    </tr>\n",
       "    <tr>\n",
       "      <th>std</th>\n",
       "      <td>8.256699e+01</td>\n",
       "      <td>6.414806e+02</td>\n",
       "      <td>4.078034e+02</td>\n",
       "      <td>5.653513e+02</td>\n",
       "      <td>1.813075e+01</td>\n",
       "      <td>1.183337e+00</td>\n",
       "      <td>7.360184e+01</td>\n",
       "      <td>1.282467e+01</td>\n",
       "      <td>1.515525e+01</td>\n",
       "      <td>1.135682e+01</td>\n",
       "      <td>1.004363e+01</td>\n",
       "      <td>6.016790e+01</td>\n",
       "      <td>1.193898e+02</td>\n",
       "      <td>9.666385e+01</td>\n",
       "      <td>9.666385e+01</td>\n",
       "      <td>3.217973e+01</td>\n",
       "      <td>9.515751e+01</td>\n",
       "    </tr>\n",
       "    <tr>\n",
       "      <th>min</th>\n",
       "      <td>0.000000e+00</td>\n",
       "      <td>0.000000e+00</td>\n",
       "      <td>0.000000e+00</td>\n",
       "      <td>0.000000e+00</td>\n",
       "      <td>0.000000e+00</td>\n",
       "      <td>1.000000e+00</td>\n",
       "      <td>0.000000e+00</td>\n",
       "      <td>0.000000e+00</td>\n",
       "      <td>0.000000e+00</td>\n",
       "      <td>0.000000e+00</td>\n",
       "      <td>0.000000e+00</td>\n",
       "      <td>0.000000e+00</td>\n",
       "      <td>0.000000e+00</td>\n",
       "      <td>0.000000e+00</td>\n",
       "      <td>0.000000e+00</td>\n",
       "      <td>0.000000e+00</td>\n",
       "      <td>0.000000e+00</td>\n",
       "    </tr>\n",
       "    <tr>\n",
       "      <th>25%</th>\n",
       "      <td>2.000000e+00</td>\n",
       "      <td>0.000000e+00</td>\n",
       "      <td>0.000000e+00</td>\n",
       "      <td>0.000000e+00</td>\n",
       "      <td>0.000000e+00</td>\n",
       "      <td>3.000000e+00</td>\n",
       "      <td>0.000000e+00</td>\n",
       "      <td>0.000000e+00</td>\n",
       "      <td>0.000000e+00</td>\n",
       "      <td>0.000000e+00</td>\n",
       "      <td>0.000000e+00</td>\n",
       "      <td>0.000000e+00</td>\n",
       "      <td>0.000000e+00</td>\n",
       "      <td>0.000000e+00</td>\n",
       "      <td>0.000000e+00</td>\n",
       "      <td>0.000000e+00</td>\n",
       "      <td>0.000000e+00</td>\n",
       "    </tr>\n",
       "    <tr>\n",
       "      <th>50%</th>\n",
       "      <td>5.000000e+00</td>\n",
       "      <td>3.000000e+00</td>\n",
       "      <td>0.000000e+00</td>\n",
       "      <td>0.000000e+00</td>\n",
       "      <td>0.000000e+00</td>\n",
       "      <td>3.880000e+00</td>\n",
       "      <td>0.000000e+00</td>\n",
       "      <td>0.000000e+00</td>\n",
       "      <td>0.000000e+00</td>\n",
       "      <td>0.000000e+00</td>\n",
       "      <td>0.000000e+00</td>\n",
       "      <td>0.000000e+00</td>\n",
       "      <td>0.000000e+00</td>\n",
       "      <td>0.000000e+00</td>\n",
       "      <td>0.000000e+00</td>\n",
       "      <td>0.000000e+00</td>\n",
       "      <td>0.000000e+00</td>\n",
       "    </tr>\n",
       "    <tr>\n",
       "      <th>75%</th>\n",
       "      <td>1.700000e+01</td>\n",
       "      <td>1.300000e+01</td>\n",
       "      <td>2.000000e+00</td>\n",
       "      <td>3.000000e+00</td>\n",
       "      <td>0.000000e+00</td>\n",
       "      <td>4.560000e+00</td>\n",
       "      <td>0.000000e+00</td>\n",
       "      <td>0.000000e+00</td>\n",
       "      <td>0.000000e+00</td>\n",
       "      <td>0.000000e+00</td>\n",
       "      <td>0.000000e+00</td>\n",
       "      <td>0.000000e+00</td>\n",
       "      <td>0.000000e+00</td>\n",
       "      <td>0.000000e+00</td>\n",
       "      <td>0.000000e+00</td>\n",
       "      <td>0.000000e+00</td>\n",
       "      <td>0.000000e+00</td>\n",
       "    </tr>\n",
       "    <tr>\n",
       "      <th>max</th>\n",
       "      <td>1.747300e+04</td>\n",
       "      <td>2.062960e+05</td>\n",
       "      <td>1.858230e+05</td>\n",
       "      <td>1.998780e+05</td>\n",
       "      <td>1.249700e+04</td>\n",
       "      <td>5.000000e+00</td>\n",
       "      <td>2.578400e+04</td>\n",
       "      <td>1.350100e+04</td>\n",
       "      <td>1.418000e+04</td>\n",
       "      <td>1.365400e+04</td>\n",
       "      <td>1.266900e+04</td>\n",
       "      <td>5.903100e+04</td>\n",
       "      <td>1.010970e+05</td>\n",
       "      <td>4.996700e+04</td>\n",
       "      <td>4.996700e+04</td>\n",
       "      <td>1.593400e+04</td>\n",
       "      <td>8.263000e+04</td>\n",
       "    </tr>\n",
       "  </tbody>\n",
       "</table>\n",
       "</div>"
      ],
      "text/plain": [
       "       review_count        useful         funny          cool          fans  \\\n",
       "count  1.987897e+06  1.987897e+06  1.987897e+06  1.987897e+06  1.987897e+06   \n",
       "mean   2.339441e+01  4.229634e+01  1.697054e+01  2.379291e+01  1.465740e+00   \n",
       "std    8.256699e+01  6.414806e+02  4.078034e+02  5.653513e+02  1.813075e+01   \n",
       "min    0.000000e+00  0.000000e+00  0.000000e+00  0.000000e+00  0.000000e+00   \n",
       "25%    2.000000e+00  0.000000e+00  0.000000e+00  0.000000e+00  0.000000e+00   \n",
       "50%    5.000000e+00  3.000000e+00  0.000000e+00  0.000000e+00  0.000000e+00   \n",
       "75%    1.700000e+01  1.300000e+01  2.000000e+00  3.000000e+00  0.000000e+00   \n",
       "max    1.747300e+04  2.062960e+05  1.858230e+05  1.998780e+05  1.249700e+04   \n",
       "\n",
       "       average_stars  compliment_hot  compliment_more  compliment_profile  \\\n",
       "count   1.987897e+06    1.987897e+06     1.987897e+06        1.987897e+06   \n",
       "mean    3.630494e+00    1.807072e+00     2.922631e-01        1.793176e-01   \n",
       "std     1.183337e+00    7.360184e+01     1.282467e+01        1.515525e+01   \n",
       "min     1.000000e+00    0.000000e+00     0.000000e+00        0.000000e+00   \n",
       "25%     3.000000e+00    0.000000e+00     0.000000e+00        0.000000e+00   \n",
       "50%     3.880000e+00    0.000000e+00     0.000000e+00        0.000000e+00   \n",
       "75%     4.560000e+00    0.000000e+00     0.000000e+00        0.000000e+00   \n",
       "max     5.000000e+00    2.578400e+04     1.350100e+04        1.418000e+04   \n",
       "\n",
       "       compliment_cute  compliment_list  compliment_note  compliment_plain  \\\n",
       "count     1.987897e+06     1.987897e+06     1.987897e+06      1.987897e+06   \n",
       "mean      1.336493e-01     6.390723e-02     1.443135e+00      3.011841e+00   \n",
       "std       1.135682e+01     1.004363e+01     6.016790e+01      1.193898e+02   \n",
       "min       0.000000e+00     0.000000e+00     0.000000e+00      0.000000e+00   \n",
       "25%       0.000000e+00     0.000000e+00     0.000000e+00      0.000000e+00   \n",
       "50%       0.000000e+00     0.000000e+00     0.000000e+00      0.000000e+00   \n",
       "75%       0.000000e+00     0.000000e+00     0.000000e+00      0.000000e+00   \n",
       "max       1.365400e+04     1.266900e+04     5.903100e+04      1.010970e+05   \n",
       "\n",
       "       compliment_cool  compliment_funny  compliment_writer  compliment_photos  \n",
       "count     1.987897e+06      1.987897e+06       1.987897e+06       1.987897e+06  \n",
       "mean      2.829308e+00      2.829308e+00       1.056448e+00       1.226859e+00  \n",
       "std       9.666385e+01      9.666385e+01       3.217973e+01       9.515751e+01  \n",
       "min       0.000000e+00      0.000000e+00       0.000000e+00       0.000000e+00  \n",
       "25%       0.000000e+00      0.000000e+00       0.000000e+00       0.000000e+00  \n",
       "50%       0.000000e+00      0.000000e+00       0.000000e+00       0.000000e+00  \n",
       "75%       0.000000e+00      0.000000e+00       0.000000e+00       0.000000e+00  \n",
       "max       4.996700e+04      4.996700e+04       1.593400e+04       8.263000e+04  "
      ]
     },
     "execution_count": 27,
     "metadata": {},
     "output_type": "execute_result"
    }
   ],
   "source": [
    "df_user_data.describe()"
   ]
  },
  {
   "cell_type": "code",
   "execution_count": 28,
   "id": "40c45939-734b-4357-aa60-c422fb4672b5",
   "metadata": {},
   "outputs": [
    {
     "name": "stdout",
     "output_type": "stream",
     "text": [
      "There is a total of 22 columns\n"
     ]
    }
   ],
   "source": [
    "print_num_cols(df_user_data)"
   ]
  },
  {
   "cell_type": "code",
   "execution_count": 29,
   "id": "4531d262-0886-4bed-94a3-745b1bdaee7a",
   "metadata": {},
   "outputs": [
    {
     "name": "stdout",
     "output_type": "stream",
     "text": [
      "'user_id' column has 0 missing values\n",
      "'name' column has 0 missing values\n",
      "'review_count' column has 0 missing values\n",
      "'yelping_since' column has 0 missing values\n",
      "'useful' column has 0 missing values\n",
      "'funny' column has 0 missing values\n",
      "'cool' column has 0 missing values\n",
      "'elite' column has 0 missing values\n",
      "'friends' column has 0 missing values\n",
      "'fans' column has 0 missing values\n",
      "'average_stars' column has 0 missing values\n",
      "'compliment_hot' column has 0 missing values\n",
      "'compliment_more' column has 0 missing values\n",
      "'compliment_profile' column has 0 missing values\n",
      "'compliment_cute' column has 0 missing values\n",
      "'compliment_list' column has 0 missing values\n",
      "'compliment_note' column has 0 missing values\n",
      "'compliment_plain' column has 0 missing values\n",
      "'compliment_cool' column has 0 missing values\n",
      "'compliment_funny' column has 0 missing values\n",
      "'compliment_writer' column has 0 missing values\n",
      "'compliment_photos' column has 0 missing values\n"
     ]
    }
   ],
   "source": [
    "print_num_missing(df_user_data)"
   ]
  },
  {
   "cell_type": "code",
   "execution_count": 30,
   "id": "28ff3d3b-cf9d-430f-95a6-5e504d938ad0",
   "metadata": {},
   "outputs": [
    {
     "name": "stdout",
     "output_type": "stream",
     "text": [
      "'user_id' column is of type 'object'\n",
      "'name' column is of type 'object'\n",
      "'review_count' column is of type 'int64'\n",
      "'yelping_since' column is of type 'object'\n",
      "'useful' column is of type 'int64'\n",
      "'funny' column is of type 'int64'\n",
      "'cool' column is of type 'int64'\n",
      "'elite' column is of type 'object'\n",
      "'friends' column is of type 'object'\n",
      "'fans' column is of type 'int64'\n",
      "'average_stars' column is of type 'float64'\n",
      "'compliment_hot' column is of type 'int64'\n",
      "'compliment_more' column is of type 'int64'\n",
      "'compliment_profile' column is of type 'int64'\n",
      "'compliment_cute' column is of type 'int64'\n",
      "'compliment_list' column is of type 'int64'\n",
      "'compliment_note' column is of type 'int64'\n",
      "'compliment_plain' column is of type 'int64'\n",
      "'compliment_cool' column is of type 'int64'\n",
      "'compliment_funny' column is of type 'int64'\n",
      "'compliment_writer' column is of type 'int64'\n",
      "'compliment_photos' column is of type 'int64'\n"
     ]
    }
   ],
   "source": [
    "print_types(df_user_data)"
   ]
  },
  {
   "cell_type": "code",
   "execution_count": 31,
   "id": "bf2cc783-3295-496c-9eb0-5a8d4a19899f",
   "metadata": {},
   "outputs": [],
   "source": [
    "df_user_data = df_user_data.astype({\n",
    "    \"user_id\": str,\n",
    "    \"name\": str,\n",
    "    \"yelping_since\": str,\n",
    "    \"elite\": str,\n",
    "    \"friends\": str\n",
    "})"
   ]
  },
  {
   "cell_type": "markdown",
   "id": "2deee840-014a-4e4d-a88a-eb00447188c3",
   "metadata": {},
   "source": [
    "## Plot"
   ]
  },
  {
   "cell_type": "markdown",
   "id": "86c073ec-727d-47d2-8037-c06f0a8fb75c",
   "metadata": {},
   "source": [
    "### Restaurant stars"
   ]
  },
  {
   "cell_type": "code",
   "execution_count": 32,
   "id": "470118e3-d516-43ad-ba38-054e7a6f6e68",
   "metadata": {},
   "outputs": [
    {
     "data": {
      "image/png": "[encoded data removed]",
      "text/plain": [
       "<Figure size 640x480 with 1 Axes>"
      ]
     },
     "metadata": {},
     "output_type": "display_data"
    }
   ],
   "source": [
    "sns.histplot(df_business_data.stars, color = 'cornflowerblue')\n",
    "plt.title('Distribution of Star Ratings for Restaurants')\n",
    "plt.xlabel('Star Rating')\n",
    "plt.ylabel('Count')\n",
    "plt.show()"
   ]
  },
  {
   "cell_type": "markdown",
   "id": "0ae702bb-2620-4292-a3e9-8ae4ba641c54",
   "metadata": {},
   "source": [
    "### Review stars"
   ]
  },
  {
   "cell_type": "code",
   "execution_count": 33,
   "id": "11edeb5d-f6af-461f-88e5-36d5bea77f85",
   "metadata": {},
   "outputs": [
    {
     "data": {
      "image/png": "[encoded data removed]",
      "text/plain": [
       "<Figure size 640x480 with 1 Axes>"
      ]
     },
     "metadata": {},
     "output_type": "display_data"
    }
   ],
   "source": [
    "sns.histplot(df_review_data.stars, color = 'cornflowerblue', binwidth = 1, binrange = (0.5, 5.5))\n",
    "plt.title('Distribution of Star Ratings for Reviews')\n",
    "plt.xlabel('Star Rating')\n",
    "plt.ylabel('Count')\n",
    "plt.xticks(range(1, 6))\n",
    "plt.show()"
   ]
  },
  {
   "cell_type": "markdown",
   "id": "fcf7e311-c93c-48ec-a7ed-9196fe6ca251",
   "metadata": {},
   "source": [
    "### Business locations"
   ]
  },
  {
   "cell_type": "code",
   "execution_count": 34,
   "id": "8ff7ac3e-e1ca-49d0-87af-e19fbb957e87",
   "metadata": {},
   "outputs": [
    {
     "data": {
      "image/png": "[encoded data removed]",
      "text/plain": [
       "<Figure size 640x480 with 1 Axes>"
      ]
     },
     "metadata": {},
     "output_type": "display_data"
    }
   ],
   "source": [
    "sns.scatterplot(data = df_business_data, x = 'longitude', y = 'latitude', color = 'cornflowerblue')\n",
    "plt.title('Business Locations')\n",
    "plt.xlabel('Longitude')\n",
    "plt.ylabel('Latitude')\n",
    "plt.show()"
   ]
  },
  {
   "cell_type": "code",
   "execution_count": 35,
   "id": "75a3d1a5-ddc5-4306-bab8-8c33447e114e",
   "metadata": {},
   "outputs": [],
   "source": [
    "#fig = px.scatter_geo(df_business_data, \n",
    "#                     lat = 'latitude', lon = 'longitude',\n",
    "#                     title = 'Business Locations')\n",
    "#fig.update_geos(scope = 'usa')\n",
    "#fig.show()"
   ]
  },
  {
   "cell_type": "markdown",
   "id": "8419e895-4265-4495-b1a9-c8354d910d4b",
   "metadata": {},
   "source": [
    "### Number of friends"
   ]
  },
  {
   "cell_type": "code",
   "execution_count": 28,
   "id": "24d2a152-b99f-4781-bd9a-f5657cd2c0d7",
   "metadata": {},
   "outputs": [
    {
     "data": {
      "image/png": "[encoded data removed]",
      "text/plain": [
       "<Figure size 640x480 with 1 Axes>"
      ]
     },
     "metadata": {},
     "output_type": "display_data"
    }
   ],
   "source": [
    "df_user_data['num_friends'] = df_user_data['friends'].apply(lambda x: len(x.split(',')) if x and x != 'None' else 0)\n",
    "\n",
    "sns.boxplot(df_user_data.num_friends)\n",
    "plt.show()"
   ]
  },
  {
   "cell_type": "code",
   "execution_count": 33,
   "id": "1f03b9da-95a3-49af-bc06-53645ad1cea8",
   "metadata": {},
   "outputs": [
    {
     "data": {
      "image/png": "[encoded data removed]",
      "text/plain": [
       "<Figure size 640x480 with 1 Axes>"
      ]
     },
     "metadata": {},
     "output_type": "display_data"
    }
   ],
   "source": [
    "sns.histplot(df_user_data.num_friends, color = 'cornflowerblue')\n",
    "plt.xlim(0, 200)\n",
    "plt.ylim(0, 125000)\n",
    "plt.show()"
   ]
  },
  {
   "cell_type": "markdown",
   "id": "ad0bb0f3-cb3e-472d-8935-46889c5c0832",
   "metadata": {},
   "source": [
    "### Restaurant stars and review counts"
   ]
  },
  {
   "cell_type": "code",
   "execution_count": 38,
   "id": "5d4d5869-89b6-4c35-867c-fb71c828a3c7",
   "metadata": {},
   "outputs": [
    {
     "data": {
      "image/png": "[encoded data removed]",
      "text/plain": [
       "<Figure size 640x480 with 1 Axes>"
      ]
     },
     "metadata": {},
     "output_type": "display_data"
    }
   ],
   "source": [
    "sns.scatterplot(data = df_business_data, x = 'stars', y = 'review_count', color = 'cornflowerblue')\n",
    "plt.title('Stars v.s. Review Counts')\n",
    "plt.xlabel('Stars')\n",
    "plt.ylabel('Review Counts')\n",
    "plt.show()"
   ]
  },
  {
   "cell_type": "markdown",
   "id": "7176e903-53ed-4df7-b6ba-af78313a9028",
   "metadata": {},
   "source": [
    "# Data Preprocessing"
   ]
  },
  {
   "cell_type": "markdown",
   "id": "8b06adc4-102f-415b-bd95-cc6d5d04ab1d",
   "metadata": {},
   "source": [
    "## Check duplicates"
   ]
  },
  {
   "cell_type": "code",
   "execution_count": 13,
   "id": "c9823b94-c6b1-4977-91e6-19a1b339b270",
   "metadata": {},
   "outputs": [],
   "source": [
    "duplicates = df_review_data[df_review_data['review_id'].duplicated()]"
   ]
  },
  {
   "cell_type": "code",
   "execution_count": 14,
   "id": "2e880534-1aa3-4c65-990c-006a033486ae",
   "metadata": {},
   "outputs": [
    {
     "name": "stdout",
     "output_type": "stream",
     "text": [
      "Empty DataFrame\n",
      "Columns: [review_id, user_id, business_id, stars, useful, funny, cool, text, date]\n",
      "Index: []\n"
     ]
    }
   ],
   "source": [
    "print(duplicates)"
   ]
  },
  {
   "cell_type": "code",
   "execution_count": 15,
   "id": "0b2fdc96-0a2a-40e8-92ac-45474bef69b9",
   "metadata": {},
   "outputs": [],
   "source": [
    "duplicates = df_business_data[df_business_data['business_id'].duplicated()]"
   ]
  },
  {
   "cell_type": "code",
   "execution_count": 16,
   "id": "35ae2e82-eee8-49c4-bb0a-805465db8be9",
   "metadata": {},
   "outputs": [
    {
     "name": "stdout",
     "output_type": "stream",
     "text": [
      "Empty DataFrame\n",
      "Columns: [business_id, name, address, city, state, postal_code, latitude, longitude, stars, review_count, is_open, attributes, categories, hours]\n",
      "Index: []\n"
     ]
    }
   ],
   "source": [
    "print(duplicates)"
   ]
  },
  {
   "cell_type": "markdown",
   "id": "44d47dbd-da45-4e3b-8baf-956348110b5f",
   "metadata": {},
   "source": [
    "## Combine df"
   ]
  },
  {
   "cell_type": "code",
   "execution_count": 17,
   "id": "74342a5f-bd23-403e-be02-c2a34d6851f9",
   "metadata": {},
   "outputs": [],
   "source": [
    "df_combined = pd.merge(df_review_data, df_business_data, on = 'business_id', how = 'left')"
   ]
  },
  {
   "cell_type": "code",
   "execution_count": 18,
   "id": "5a72f252-4748-4b5a-a7b0-ad3f94f6561a",
   "metadata": {},
   "outputs": [],
   "source": [
    "df_combined = df_combined.rename(columns = {\n",
    "    'stars_x': 'review_stars',\n",
    "    'stars_y': 'business_stars'\n",
    "})"
   ]
  },
  {
   "cell_type": "markdown",
   "id": "879c7cbb-7bfb-420a-a7bd-0640cf47dcd6",
   "metadata": {},
   "source": [
    "## Drop columns"
   ]
  },
  {
   "cell_type": "code",
   "execution_count": 19,
   "id": "20eecba9-0155-4d40-acd6-38059c2f051d",
   "metadata": {},
   "outputs": [],
   "source": [
    "df_dropped = df_combined.drop(columns = ['useful', 'funny', 'cool', 'text', 'date', 'name', \n",
    "                                         'address', 'postal_code', 'latitude', 'longitude',\n",
    "                                         'is_open', 'hours'])"
   ]
  },
  {
   "cell_type": "markdown",
   "id": "a84716a7-d7aa-44a4-8026-9d43cb1b6f7c",
   "metadata": {},
   "source": [
    "## Missing values"
   ]
  },
  {
   "cell_type": "code",
   "execution_count": 20,
   "id": "2a822085-2c13-47e6-ae80-e23d401e1987",
   "metadata": {},
   "outputs": [
    {
     "name": "stdout",
     "output_type": "stream",
     "text": [
      "'review_id' column has 0 missing values\n",
      "'user_id' column has 0 missing values\n",
      "'business_id' column has 0 missing values\n",
      "'review_stars' column has 0 missing values\n",
      "'city' column has 0 missing values\n",
      "'state' column has 0 missing values\n",
      "'business_stars' column has 0 missing values\n",
      "'review_count' column has 0 missing values\n",
      "'attributes' column has 183723 missing values\n",
      "'categories' column has 689 missing values\n"
     ]
    }
   ],
   "source": [
    "print_num_missing(df_dropped)"
   ]
  },
  {
   "cell_type": "code",
   "execution_count": 21,
   "id": "27f99b54-49df-4487-9fe3-6735797788c1",
   "metadata": {},
   "outputs": [],
   "source": [
    "df = df_dropped.dropna(axis = 0, how = 'any')"
   ]
  },
  {
   "cell_type": "code",
   "execution_count": 22,
   "id": "3caa346d-afa6-4e55-8b42-95580b7016c1",
   "metadata": {},
   "outputs": [
    {
     "name": "stdout",
     "output_type": "stream",
     "text": [
      "'review_id' column has 0 missing values\n",
      "'user_id' column has 0 missing values\n",
      "'business_id' column has 0 missing values\n",
      "'review_stars' column has 0 missing values\n",
      "'city' column has 0 missing values\n",
      "'state' column has 0 missing values\n",
      "'business_stars' column has 0 missing values\n",
      "'review_count' column has 0 missing values\n",
      "'attributes' column has 0 missing values\n",
      "'categories' column has 0 missing values\n"
     ]
    }
   ],
   "source": [
    "print_num_missing(df)"
   ]
  },
  {
   "cell_type": "code",
   "execution_count": 23,
   "id": "805ddc1b-45b4-42d8-8b27-5839cc50e9f1",
   "metadata": {},
   "outputs": [
    {
     "data": {
      "text/html": [
       "<div>\n",
       "<style scoped>\n",
       "    .dataframe tbody tr th:only-of-type {\n",
       "        vertical-align: middle;\n",
       "    }\n",
       "\n",
       "    .dataframe tbody tr th {\n",
       "        vertical-align: top;\n",
       "    }\n",
       "\n",
       "    .dataframe thead th {\n",
       "        text-align: right;\n",
       "    }\n",
       "</style>\n",
       "<table border=\"1\" class=\"dataframe\">\n",
       "  <thead>\n",
       "    <tr style=\"text-align: right;\">\n",
       "      <th></th>\n",
       "      <th>review_id</th>\n",
       "      <th>user_id</th>\n",
       "      <th>business_id</th>\n",
       "      <th>review_stars</th>\n",
       "      <th>city</th>\n",
       "      <th>state</th>\n",
       "      <th>business_stars</th>\n",
       "      <th>review_count</th>\n",
       "      <th>attributes</th>\n",
       "      <th>categories</th>\n",
       "    </tr>\n",
       "  </thead>\n",
       "  <tbody>\n",
       "    <tr>\n",
       "      <th>0</th>\n",
       "      <td>KU_O5udG6zpxOg-VcAEodg</td>\n",
       "      <td>mh_-eMZ6K5RLWhZyISBhwA</td>\n",
       "      <td>XQfwVwDr-v0ZS3_CbbE5Xw</td>\n",
       "      <td>3</td>\n",
       "      <td>North Wales</td>\n",
       "      <td>PA</td>\n",
       "      <td>3.0</td>\n",
       "      <td>169</td>\n",
       "      <td>{'NoiseLevel': 'u'average'', 'HasTV': 'False',...</td>\n",
       "      <td>Restaurants, Breakfast &amp; Brunch, Food, Juice B...</td>\n",
       "    </tr>\n",
       "    <tr>\n",
       "      <th>1</th>\n",
       "      <td>BiTunyQ73aT9WBnpR9DZGw</td>\n",
       "      <td>OyoGAe7OKpv6SyGZT5g77Q</td>\n",
       "      <td>7ATYjTIgM3jUlt4UM3IypQ</td>\n",
       "      <td>5</td>\n",
       "      <td>Philadelphia</td>\n",
       "      <td>PA</td>\n",
       "      <td>5.0</td>\n",
       "      <td>144</td>\n",
       "      <td>{'BusinessAcceptsCreditCards': 'True', 'GoodFo...</td>\n",
       "      <td>Active Life, Cycling Classes, Trainers, Gyms, ...</td>\n",
       "    </tr>\n",
       "    <tr>\n",
       "      <th>2</th>\n",
       "      <td>saUsX_uimxRlCVr67Z4Jig</td>\n",
       "      <td>8g_iMtfSiwikVnbP2etR0A</td>\n",
       "      <td>YjUWPpI6HXG530lwP-fb2A</td>\n",
       "      <td>3</td>\n",
       "      <td>Tucson</td>\n",
       "      <td>AZ</td>\n",
       "      <td>3.5</td>\n",
       "      <td>47</td>\n",
       "      <td>{'RestaurantsReservations': 'True', 'BusinessP...</td>\n",
       "      <td>Restaurants, Breakfast &amp; Brunch</td>\n",
       "    </tr>\n",
       "    <tr>\n",
       "      <th>3</th>\n",
       "      <td>AqPFMleE6RsU23_auESxiA</td>\n",
       "      <td>_7bHUi9Uuf5__HHc_Q8guQ</td>\n",
       "      <td>kxX2SOes4o-D3ZQBkiMRfA</td>\n",
       "      <td>5</td>\n",
       "      <td>Philadelphia</td>\n",
       "      <td>PA</td>\n",
       "      <td>4.0</td>\n",
       "      <td>181</td>\n",
       "      <td>{'Caters': 'True', 'Ambience': '{'romantic': F...</td>\n",
       "      <td>Halal, Pakistani, Restaurants, Indian</td>\n",
       "    </tr>\n",
       "    <tr>\n",
       "      <th>4</th>\n",
       "      <td>Sx8TMOWLNuJBWer-0pcmoA</td>\n",
       "      <td>bcjbaE6dDog4jkNY91ncLQ</td>\n",
       "      <td>e4Vwtrqf-wpJfwesgvdgxQ</td>\n",
       "      <td>4</td>\n",
       "      <td>New Orleans</td>\n",
       "      <td>LA</td>\n",
       "      <td>4.0</td>\n",
       "      <td>32</td>\n",
       "      <td>{'BusinessParking': '{'garage': False, 'street...</td>\n",
       "      <td>Sandwiches, Beer, Wine &amp; Spirits, Bars, Food, ...</td>\n",
       "    </tr>\n",
       "  </tbody>\n",
       "</table>\n",
       "</div>"
      ],
      "text/plain": [
       "                review_id                 user_id             business_id  \\\n",
       "0  KU_O5udG6zpxOg-VcAEodg  mh_-eMZ6K5RLWhZyISBhwA  XQfwVwDr-v0ZS3_CbbE5Xw   \n",
       "1  BiTunyQ73aT9WBnpR9DZGw  OyoGAe7OKpv6SyGZT5g77Q  7ATYjTIgM3jUlt4UM3IypQ   \n",
       "2  saUsX_uimxRlCVr67Z4Jig  8g_iMtfSiwikVnbP2etR0A  YjUWPpI6HXG530lwP-fb2A   \n",
       "3  AqPFMleE6RsU23_auESxiA  _7bHUi9Uuf5__HHc_Q8guQ  kxX2SOes4o-D3ZQBkiMRfA   \n",
       "4  Sx8TMOWLNuJBWer-0pcmoA  bcjbaE6dDog4jkNY91ncLQ  e4Vwtrqf-wpJfwesgvdgxQ   \n",
       "\n",
       "   review_stars          city state  business_stars  review_count  \\\n",
       "0             3   North Wales    PA             3.0           169   \n",
       "1             5  Philadelphia    PA             5.0           144   \n",
       "2             3        Tucson    AZ             3.5            47   \n",
       "3             5  Philadelphia    PA             4.0           181   \n",
       "4             4   New Orleans    LA             4.0            32   \n",
       "\n",
       "                                          attributes  \\\n",
       "0  {'NoiseLevel': 'u'average'', 'HasTV': 'False',...   \n",
       "1  {'BusinessAcceptsCreditCards': 'True', 'GoodFo...   \n",
       "2  {'RestaurantsReservations': 'True', 'BusinessP...   \n",
       "3  {'Caters': 'True', 'Ambience': '{'romantic': F...   \n",
       "4  {'BusinessParking': '{'garage': False, 'street...   \n",
       "\n",
       "                                          categories  \n",
       "0  Restaurants, Breakfast & Brunch, Food, Juice B...  \n",
       "1  Active Life, Cycling Classes, Trainers, Gyms, ...  \n",
       "2                    Restaurants, Breakfast & Brunch  \n",
       "3              Halal, Pakistani, Restaurants, Indian  \n",
       "4  Sandwiches, Beer, Wine & Spirits, Bars, Food, ...  "
      ]
     },
     "execution_count": 23,
     "metadata": {},
     "output_type": "execute_result"
    }
   ],
   "source": [
    "df.head()"
   ]
  },
  {
   "cell_type": "markdown",
   "id": "77535c9c-3c62-42ba-afeb-bcf360f4333c",
   "metadata": {},
   "source": [
    "# Feature Engineering"
   ]
  },
  {
   "cell_type": "markdown",
   "id": "e68bdfa6-5f95-4ee7-a53c-bea5c6344edc",
   "metadata": {},
   "source": [
    "## Aggregate average user rating"
   ]
  },
  {
   "cell_type": "code",
   "execution_count": 24,
   "id": "ae5f458b-3cdc-4f0f-94cb-01703f2bf66c",
   "metadata": {},
   "outputs": [],
   "source": [
    "df_avg_rating = df_review_data.groupby('user_id')['stars'].mean()"
   ]
  },
  {
   "cell_type": "code",
   "execution_count": 25,
   "id": "3520ee40-b516-4861-9a62-3ee688fbe67d",
   "metadata": {},
   "outputs": [
    {
     "data": {
      "image/png": "[encoded data removed]",
      "text/plain": [
       "<Figure size 640x480 with 1 Axes>"
      ]
     },
     "metadata": {},
     "output_type": "display_data"
    }
   ],
   "source": [
    "sns.histplot(df_avg_rating, color = 'cornflowerblue', binwidth = 0.2, binrange = (0.5, 5.5))\n",
    "plt.title('Distribution of Average Star Ratings for Users')\n",
    "plt.xlabel('Star Rating')\n",
    "plt.ylabel('Count')\n",
    "plt.xticks(range(1, 6))\n",
    "plt.show()"
   ]
  },
  {
   "cell_type": "code",
   "execution_count": 26,
   "id": "ec71feb1-cab1-4295-8259-603212191ec0",
   "metadata": {},
   "outputs": [],
   "source": [
    "df = df.merge(df_avg_rating, on = 'user_id', how = 'left')\n",
    "df = df.rename(columns = {'stars': 'avg_stars'})"
   ]
  },
  {
   "cell_type": "markdown",
   "id": "8385483b-4942-4eb4-99ed-6535b526f8bf",
   "metadata": {},
   "source": [
    "## Aggregate number of friends"
   ]
  },
  {
   "cell_type": "code",
   "execution_count": 29,
   "id": "217c7676-7b70-4c45-b285-97ee5542c05c",
   "metadata": {},
   "outputs": [],
   "source": [
    "df = df.merge(df_user_data[['user_id', 'num_friends']], on = 'user_id', how = 'left')"
   ]
  },
  {
   "cell_type": "code",
   "execution_count": 30,
   "id": "54f82b43-2820-4d57-a82a-24c499c5b365",
   "metadata": {},
   "outputs": [],
   "source": [
    "df = df.dropna(axis = 0, how = 'any')"
   ]
  },
  {
   "cell_type": "code",
   "execution_count": 31,
   "id": "4036c99d-cadf-4def-aff4-c0898624f335",
   "metadata": {},
   "outputs": [
    {
     "name": "stdout",
     "output_type": "stream",
     "text": [
      "'review_id' column has 0 missing values\n",
      "'user_id' column has 0 missing values\n",
      "'business_id' column has 0 missing values\n",
      "'review_stars' column has 0 missing values\n",
      "'city' column has 0 missing values\n",
      "'state' column has 0 missing values\n",
      "'business_stars' column has 0 missing values\n",
      "'review_count' column has 0 missing values\n",
      "'attributes' column has 0 missing values\n",
      "'categories' column has 0 missing values\n",
      "'avg_stars' column has 0 missing values\n",
      "'num_friends' column has 0 missing values\n"
     ]
    }
   ],
   "source": [
    "print_num_missing(df)"
   ]
  },
  {
   "cell_type": "markdown",
   "id": "b6e2222b-5208-4b4d-b55e-47ec618aacd1",
   "metadata": {},
   "source": [
    "## Flatten categories"
   ]
  },
  {
   "cell_type": "code",
   "execution_count": null,
   "id": "56ed89a9-a52e-49b1-b529-9f9aab7fcdac",
   "metadata": {},
   "outputs": [],
   "source": [
    "business_subset = df_business_data[['business_id', 'categories']]\n",
    "review_subset = df_review_data[['business_id', 'stars']]\n",
    "merged_df = pd.merge(review_subset, business_subset, on='business_id', how='left')\n",
    "\n",
    "\n",
    "merged_df = merged_df.dropna(subset=['categories'])\n",
    "merged_df['categories'] = merged_df['categories'].str.split(', ')\n",
    "category_list = []\n",
    "for _, row in merged_df.iterrows():\n",
    "    for category in row['categories']:\n",
    "        category_list.append((category, row['stars']))\n",
    "category_df = pd.DataFrame(category_list, columns=['category', 'stars'])\n",
    "category_ratings = category_df.groupby('category')['stars'].mean().reset_index()\n",
    "category_ratings = category_ratings.sort_values(by='stars', ascending=False)\n",
    "print(category_ratings.head(10))\n"
   ]
  },
  {
   "cell_type": "code",
   "execution_count": null,
   "id": "fcd55558-e3ac-4144-ae80-8927592bad6f",
   "metadata": {},
   "outputs": [],
   "source": [
    "review_counts = df_review_data.groupby('business_id').size().reset_index(name='review_count')\n",
    "business_subset = df_business_data[['business_id', 'name']]\n",
    "review_counts = pd.merge(review_counts, business_subset, on='business_id', how='left')\n",
    "review_counts = review_counts.sort_values(by='review_count', ascending=False)\n",
    "print(review_counts.head(10))"
   ]
  },
  {
   "cell_type": "code",
   "execution_count": null,
   "id": "71387987-32d6-4874-8099-ab2899b72279",
   "metadata": {},
   "outputs": [],
   "source": [
    "import matplotlib.pyplot as plt\n",
    "\n",
    "top_categories = category_ratings.head(10)\n",
    "plt.figure(figsize=(10, 6))\n",
    "plt.barh(top_categories['category'], top_categories['stars'], color='skyblue')\n",
    "plt.xlabel('Average Star Rating')\n",
    "plt.ylabel('Category')\n",
    "plt.title('Top 10 Business Categories by Average Star Rating')\n",
    "plt.gca().invert_yaxis()\n",
    "plt.show()\n"
   ]
  },
  {
   "cell_type": "code",
   "execution_count": null,
   "id": "5a07e8cc-afa9-4100-8429-06dfca3cf835",
   "metadata": {},
   "outputs": [],
   "source": []
  }
 ],
 "metadata": {
  "kernelspec": {
   "display_name": "Python 3 (ipykernel)",
   "language": "python",
   "name": "python3"
  },
  "language_info": {
   "codemirror_mode": {
    "name": "ipython",
    "version": 3
   },
   "file_extension": ".py",
   "mimetype": "text/x-python",
   "name": "python",
   "nbconvert_exporter": "python",
   "pygments_lexer": "ipython3",
   "version": "3.11.9"
  }
 },
 "nbformat": 4,
 "nbformat_minor": 5
}
