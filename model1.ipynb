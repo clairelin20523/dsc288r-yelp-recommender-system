{
 "cells": [
  {
   "cell_type": "markdown",
   "id": "50df9aaa-f3c4-4fef-b9e5-bfe137384802",
   "metadata": {},
   "source": [
    "## Import Libraries"
   ]
  },
  {
   "cell_type": "code",
   "execution_count": 1,
   "id": "e89e23ab-afee-4f11-8e4a-5cf6949f8752",
   "metadata": {},
   "outputs": [],
   "source": [
    "import math\n",
    "import itertools\n",
    "\n",
    "import pandas as pd\n",
    "import numpy as np\n",
    "import seaborn as sns\n",
    "import plotly.express as px\n",
    "import matplotlib.pyplot as plt\n",
    "\n",
    "sns.set_style(\"whitegrid\")\n",
    "\n",
    "from collections import defaultdict\n",
    "\n",
    "from scipy.stats import pearsonr, spearmanr\n",
    "from scipy.spatial.distance import cosine"
   ]
  },
  {
   "cell_type": "markdown",
   "id": "4848136f-0e5b-45c9-b408-9d9a871ca371",
   "metadata": {},
   "source": [
    "## Get Data Needed"
   ]
  },
  {
   "cell_type": "code",
   "execution_count": 2,
   "id": "ccf01316-8e23-4eca-8dd8-99a09c5e3434",
   "metadata": {
    "scrolled": true
   },
   "outputs": [],
   "source": [
    "file_path = 'yelp_academic_dataset_business.json'\n",
    "\n",
    "df_business_data = pd.read_json(file_path, lines=True)"
   ]
  },
  {
   "cell_type": "code",
   "execution_count": 3,
   "id": "46d1fb6f-2f57-43fb-9483-864de2fd27b4",
   "metadata": {},
   "outputs": [],
   "source": [
    "file_path = 'yelp_academic_dataset_review.json'\n",
    "\n",
    "chunk_size = 100000\n",
    "chunks = []\n",
    "for chunk in pd.read_json(file_path, lines=True, chunksize=chunk_size):\n",
    "    chunks.append(chunk)\n",
    "\n",
    "df_review_data = pd.concat(chunks, ignore_index=True)"
   ]
  },
  {
   "cell_type": "code",
   "execution_count": 4,
   "id": "35068c56-3126-40f0-be26-b437c778102d",
   "metadata": {},
   "outputs": [],
   "source": [
    "file_path = 'yelp_academic_dataset_user.json'\n",
    "\n",
    "chunk_size = 100000\n",
    "chunks = []\n",
    "for chunk in pd.read_json(file_path, lines=True, chunksize=chunk_size):\n",
    "    chunks.append(chunk)\n",
    "\n",
    "df_user_data = pd.concat(chunks, ignore_index=True)"
   ]
  },
  {
   "cell_type": "markdown",
   "id": "18b290b1-7ade-4ded-9af2-b5be8be714b3",
   "metadata": {},
   "source": [
    "# Change Data Types"
   ]
  },
  {
   "cell_type": "code",
   "execution_count": 5,
   "id": "305d61d8-01d6-405c-82f1-2f752c93e4ca",
   "metadata": {},
   "outputs": [],
   "source": [
    "df_business_data = df_business_data.astype({\n",
    "    \"business_id\": str,\n",
    "    \"name\": str,\n",
    "    \"address\": str,\n",
    "    \"city\": str,\n",
    "    \"state\": str,\n",
    "    \"postal_code\": str,\n",
    "    \"is_open\": bool,\n",
    "    \"attributes\": str,\n",
    "    \"categories\": str,\n",
    "    \"hours\": str\n",
    "})"
   ]
  },
  {
   "cell_type": "code",
   "execution_count": 6,
   "id": "d11e4e7d-6529-44b3-b1eb-ba602ce0d2e2",
   "metadata": {},
   "outputs": [],
   "source": [
    "df_review_data = df_review_data.astype({\n",
    "    \"review_id\": str,\n",
    "    \"user_id\": str,\n",
    "    \"business_id\": str,\n",
    "    \"text\": str\n",
    "})"
   ]
  },
  {
   "cell_type": "markdown",
   "id": "7176e903-53ed-4df7-b6ba-af78313a9028",
   "metadata": {},
   "source": [
    "# Data Preprocessing"
   ]
  },
  {
   "cell_type": "code",
   "execution_count": 7,
   "id": "74342a5f-bd23-403e-be02-c2a34d6851f9",
   "metadata": {},
   "outputs": [],
   "source": [
    "df_combined = pd.merge(df_review_data, df_business_data, on = 'business_id', how = 'left')"
   ]
  },
  {
   "cell_type": "code",
   "execution_count": 8,
   "id": "5a72f252-4748-4b5a-a7b0-ad3f94f6561a",
   "metadata": {},
   "outputs": [],
   "source": [
    "df_combined = df_combined.rename(columns = {\n",
    "    'stars_x': 'review_stars',\n",
    "    'stars_y': 'business_stars'\n",
    "})"
   ]
  },
  {
   "cell_type": "markdown",
   "id": "879c7cbb-7bfb-420a-a7bd-0640cf47dcd6",
   "metadata": {},
   "source": [
    "## Drop columns"
   ]
  },
  {
   "cell_type": "code",
   "execution_count": 9,
   "id": "20eecba9-0155-4d40-acd6-38059c2f051d",
   "metadata": {},
   "outputs": [],
   "source": [
    "df_dropped = df_combined.drop(columns = ['useful', 'funny', 'cool', 'text', 'date', 'name', \n",
    "                                         'address', 'postal_code', 'latitude', 'longitude',\n",
    "                                         'is_open', 'hours'])"
   ]
  },
  {
   "cell_type": "code",
   "execution_count": 10,
   "id": "420c11fb-6e92-408c-a9c2-a1d49af778a2",
   "metadata": {},
   "outputs": [],
   "source": [
    "df = df_dropped.dropna(axis = 0, how = 'any')"
   ]
  },
  {
   "cell_type": "markdown",
   "id": "77535c9c-3c62-42ba-afeb-bcf360f4333c",
   "metadata": {},
   "source": [
    "## Feature Engineering"
   ]
  },
  {
   "cell_type": "markdown",
   "id": "e68bdfa6-5f95-4ee7-a53c-bea5c6344edc",
   "metadata": {},
   "source": [
    "### Aggregate average user rating"
   ]
  },
  {
   "cell_type": "code",
   "execution_count": 11,
   "id": "ae5f458b-3cdc-4f0f-94cb-01703f2bf66c",
   "metadata": {},
   "outputs": [],
   "source": [
    "df_avg_rating = df_review_data.groupby('user_id')['stars'].mean()"
   ]
  },
  {
   "cell_type": "code",
   "execution_count": 12,
   "id": "ec71feb1-cab1-4295-8259-603212191ec0",
   "metadata": {},
   "outputs": [],
   "source": [
    "df = df.merge(df_avg_rating, on = 'user_id', how = 'left')\n",
    "df = df.rename(columns = {'stars': 'avg_stars'})"
   ]
  },
  {
   "cell_type": "markdown",
   "id": "8385483b-4942-4eb4-99ed-6535b526f8bf",
   "metadata": {},
   "source": [
    "### Aggregate number of friends"
   ]
  },
  {
   "cell_type": "code",
   "execution_count": 13,
   "id": "24d2a152-b99f-4781-bd9a-f5657cd2c0d7",
   "metadata": {
    "scrolled": true
   },
   "outputs": [],
   "source": [
    "df_user_data['num_friends'] = df_user_data['friends'].apply(lambda x: len(x.split(',')) if x and x != 'None' else 0)"
   ]
  },
  {
   "cell_type": "code",
   "execution_count": 14,
   "id": "217c7676-7b70-4c45-b285-97ee5542c05c",
   "metadata": {},
   "outputs": [],
   "source": [
    "df = df.merge(df_user_data[['user_id', 'num_friends']], on = 'user_id', how = 'left')"
   ]
  },
  {
   "cell_type": "code",
   "execution_count": 15,
   "id": "54f82b43-2820-4d57-a82a-24c499c5b365",
   "metadata": {},
   "outputs": [],
   "source": [
    "df = df.dropna(axis = 0, how = 'any')"
   ]
  },
  {
   "cell_type": "markdown",
   "id": "e0572e21-3eae-496a-a928-433a0659b040",
   "metadata": {},
   "source": [
    "# Recommend Model"
   ]
  },
  {
   "cell_type": "markdown",
   "id": "55b003bb-5be4-4d5d-afc3-c547eab2f0ba",
   "metadata": {},
   "source": [
    "## Train test split"
   ]
  },
  {
   "cell_type": "code",
   "execution_count": 16,
   "id": "39fd6ffb-266f-4dbe-842d-01506e966149",
   "metadata": {},
   "outputs": [],
   "source": [
    "n = len(df)\n",
    "n_train = int(n * 0.8)\n",
    "train = df[:n_train]\n",
    "test = df[n_train:]"
   ]
  },
  {
   "cell_type": "markdown",
   "id": "d9c01385-1173-499a-a337-c7116f6916e6",
   "metadata": {},
   "source": [
    "## Useful data structures"
   ]
  },
  {
   "cell_type": "code",
   "execution_count": 17,
   "id": "3a4ff74d-0b15-4144-adc9-feade4a753f2",
   "metadata": {},
   "outputs": [],
   "source": [
    "usersPerBusiness = defaultdict(set)\n",
    "businessPerUser = defaultdict(set)\n",
    "reviewsPerUser = defaultdict(list)\n",
    "reviewsPerBusiness = defaultdict(list)\n",
    "ratingDict = {}\n",
    "\n",
    "for user, business, rating in zip(train['user_id'], train['business_id'], train['review_stars']):\n",
    "    usersPerBusiness[business].add(user)\n",
    "    businessPerUser[user].add(business)\n",
    "    reviewsPerUser[user].append((business, rating))\n",
    "    reviewsPerBusiness[business].append((user, rating))\n",
    "    ratingDict[(user, business)] = rating"
   ]
  },
  {
   "cell_type": "markdown",
   "id": "865df69a-989b-4891-b1ed-c7898be2f6ad",
   "metadata": {},
   "source": [
    "## Similarity measures"
   ]
  },
  {
   "cell_type": "code",
   "execution_count": 18,
   "id": "323810b5-b77b-4b9e-a637-a5dbd32a57ca",
   "metadata": {},
   "outputs": [],
   "source": [
    "def Jaccard(s1, s2):\n",
    "    \"\"\"\n",
    "    Method to calculate Jaccard similarity\n",
    "    \"\"\"\n",
    "    n = len(s1.intersection(s2))\n",
    "    u = len(s1.union(s2))\n",
    "    return n/u"
   ]
  },
  {
   "cell_type": "code",
   "execution_count": 19,
   "id": "a9fde04d-8029-4a7d-b823-0030cb18bcd3",
   "metadata": {},
   "outputs": [],
   "source": [
    "def Cosine(s1, s2):\n",
    "    \"\"\"\n",
    "    Method to calculate Cosine similarity\n",
    "    \"\"\"\n",
    "    u = list(s1.union(s2))\n",
    "    v1 = np.array([1 if x in s1 else 0 for x in u])\n",
    "    v2 = np.array([1 if x in s2 else 0 for x in u])\n",
    "    return 1 - cosine(v1, v2)"
   ]
  },
  {
   "cell_type": "markdown",
   "id": "b8dfc5a0-5863-4373-93c6-9597cbcd2261",
   "metadata": {},
   "source": [
    "## Most similar businesses"
   ]
  },
  {
   "cell_type": "code",
   "execution_count": 20,
   "id": "92160510-d47d-46d5-9172-789bac3df75a",
   "metadata": {},
   "outputs": [],
   "source": [
    "def mostSimilar(business, N, SIM = Jaccard):\n",
    "    \"\"\"\n",
    "    Method to find N most similar restaurants\n",
    "    - Using SIM similarity measure with a default of Jaccard\n",
    "    Input: business, N, SIM\n",
    "    \"\"\"\n",
    "    users = usersPerBusiness[business]\n",
    "    sim = []\n",
    "    businesses = set()\n",
    "    for u in users:\n",
    "        businesses = businesses.union(businessPerUser[u])\n",
    "    for j in businesses:\n",
    "        if business == j:\n",
    "            continue\n",
    "        score = SIM(usersPerBusiness[business], usersPerBusiness[j])\n",
    "        sim.append((score, j))\n",
    "    sim.sort(reverse = True)\n",
    "    return sim[:N]"
   ]
  },
  {
   "cell_type": "code",
   "execution_count": 21,
   "id": "92237134-2c1f-456b-ad3b-2b37e1f9f43c",
   "metadata": {},
   "outputs": [
    {
     "data": {
      "text/plain": [
       "[]"
      ]
     },
     "execution_count": 21,
     "metadata": {},
     "output_type": "execute_result"
    }
   ],
   "source": [
    "business1 = test['business_id'].iloc[1]\n",
    "mostSimilar(business1, 5, Jaccard)"
   ]
  },
  {
   "cell_type": "code",
   "execution_count": 22,
   "id": "79c12c84-fd4a-48cb-ab44-f4a3f5420f18",
   "metadata": {},
   "outputs": [
    {
     "data": {
      "text/plain": [
       "[]"
      ]
     },
     "execution_count": 22,
     "metadata": {},
     "output_type": "execute_result"
    }
   ],
   "source": [
    "mostSimilar(business1, 5, Cosine)"
   ]
  },
  {
   "cell_type": "markdown",
   "id": "15b84a6b-dd2a-4f48-86ca-2a1a861ce38f",
   "metadata": {},
   "source": [
    "## Highest rated businesses"
   ]
  },
  {
   "cell_type": "code",
   "execution_count": 23,
   "id": "eb87d5cd-d3f5-40dd-9702-fd50e8a69ce5",
   "metadata": {},
   "outputs": [],
   "source": [
    "def topBusinesses(user, R):\n",
    "    \"\"\"\n",
    "    Method to find businesses that are rated >= R stars\n",
    "    Input: user, R\n",
    "    \"\"\"\n",
    "    top = []\n",
    "    for b in businessPerUser[user]:\n",
    "        if ratingDict[(user, b)] >= R:\n",
    "            top.append(b)\n",
    "    return top"
   ]
  },
  {
   "cell_type": "code",
   "execution_count": 24,
   "id": "5d50f8f1-97ed-4963-933a-2f3b9668c6c6",
   "metadata": {},
   "outputs": [
    {
     "data": {
      "text/plain": [
       "['-wG5DQxGlSog4ynKrRdQMQ']"
      ]
     },
     "execution_count": 24,
     "metadata": {},
     "output_type": "execute_result"
    }
   ],
   "source": [
    "user1 = test['user_id'].iloc[0]\n",
    "topBusinesses(user1, 4)"
   ]
  },
  {
   "cell_type": "markdown",
   "id": "6bd071ac-5e4a-41ee-950f-04e92b089a3a",
   "metadata": {},
   "source": [
    "## Recommend businesses"
   ]
  },
  {
   "cell_type": "code",
   "execution_count": 25,
   "id": "4bd6d5eb-57fd-453c-8766-79503885403a",
   "metadata": {},
   "outputs": [],
   "source": [
    "def topSimilar(user, R, M, N, SIM = Jaccard):\n",
    "    \"\"\"\n",
    "    Method to recommend N businesses\n",
    "    - Using businesses rated as >= R stars\n",
    "    - By each finding M similar businesses\n",
    "    - Using SIM similarity measure with a default of Jaccard\n",
    "    Input: user, R, M, N, SIM\n",
    "    \"\"\"\n",
    "    top = topBusinesses(user, R)\n",
    "    rated = businessPerUser[user]\n",
    "    sims = []\n",
    "    for b in top:\n",
    "        sims.append(mostSimilar(b, M, SIM))\n",
    "    flat_sims = list(itertools.chain(*sims))\n",
    "    top_sims = [x for x in flat_sims if x[1] not in rated]\n",
    "    sorted_sims = sorted(top_sims, key = lambda x: x[0], reverse = True)\n",
    "    return [x[1] for x in sorted_sims][:N]"
   ]
  },
  {
   "cell_type": "code",
   "execution_count": 26,
   "id": "4b52319a-3891-4f46-ab1b-d31d9702da43",
   "metadata": {},
   "outputs": [
    {
     "data": {
      "text/plain": [
       "['PnT9JSoMirpKzY6TnG1HhQ', 'FbPzY01omRFOAmbiqzBsUg', 'YL50DFkSKhVFyfKZgYQA8Q']"
      ]
     },
     "execution_count": 26,
     "metadata": {},
     "output_type": "execute_result"
    }
   ],
   "source": [
    "topSimilar(user1, 4, 3, 5)"
   ]
  },
  {
   "cell_type": "markdown",
   "id": "324fcbdc-b1cb-4abe-8b34-fe75303fb7f2",
   "metadata": {},
   "source": [
    "## Evaluate"
   ]
  },
  {
   "cell_type": "code",
   "execution_count": 27,
   "id": "74371f15-9a39-4d8d-b233-60d1da3cc873",
   "metadata": {},
   "outputs": [],
   "source": [
    "# test\n",
    "usersPerBusinessTest = defaultdict(set)\n",
    "businessPerUserTest = defaultdict(set)\n",
    "reviewsPerUserTest = defaultdict(list)\n",
    "reviewsPerBusinessTest = defaultdict(list)\n",
    "ratingDictTest = {}\n",
    "\n",
    "for user, business, rating in zip(test['user_id'], test['business_id'], test['review_stars']):\n",
    "    usersPerBusinessTest[business].add(user)\n",
    "    businessPerUserTest[user].add(business)\n",
    "    reviewsPerUserTest[user].append((business, rating))\n",
    "    reviewsPerBusinessTest[business].append((user, rating))\n",
    "    ratingDictTest[(user, business)] = rating"
   ]
  },
  {
   "cell_type": "code",
   "execution_count": 28,
   "id": "2cb1beb0-c29d-401f-abb7-aba93727c3b6",
   "metadata": {},
   "outputs": [],
   "source": [
    "def precisionK(user):\n",
    "    recs = topSimilar(user, 2, 10, 30)\n",
    "    k = len(recs)\n",
    "    if k == 0:\n",
    "        return 0\n",
    "    rated = [x[0] for x in reviewsPerUserTest[user]]\n",
    "    precision = sum(1 for rec in recs if rec in rated)\n",
    "    return precision/k"
   ]
  },
  {
   "cell_type": "markdown",
   "id": "3daa85d8-263d-4e98-919f-f463360d79be",
   "metadata": {},
   "source": [
    "# Rating Model"
   ]
  },
  {
   "cell_type": "markdown",
   "id": "13f89795-2283-43b0-9b85-e9a82426ed58",
   "metadata": {},
   "source": [
    "## Helper functions"
   ]
  },
  {
   "cell_type": "code",
   "execution_count": 29,
   "id": "4205b285-9ec6-4480-9b16-523af5808d71",
   "metadata": {},
   "outputs": [],
   "source": [
    "def getMean():\n",
    "    return sum([d['review_stars'] for d in train])/len(train)"
   ]
  },
  {
   "cell_type": "code",
   "execution_count": 30,
   "id": "842b24b2-8fbc-43bc-a827-825a3e3852db",
   "metadata": {},
   "outputs": [],
   "source": [
    "def predictRating(user, business):\n",
    "    ratings = []\n",
    "    sims = []\n",
    "    for d in reviewsPerUser[user]:\n",
    "        j = d['business_id']\n",
    "        if j == business: \n",
    "            continue\n",
    "        ratings.append(d['review_stars'])\n",
    "        score = Jaccard(usersPerBusiness[business], usersPerBusiness[j])\n",
    "        sims.append(score)\n",
    "    if (sum(sims) > 0):\n",
    "        weighted = [(x*y) for x,y in zip(ratings, sims)]\n",
    "        return sum(weighted)/sum(sims)\n",
    "    else:\n",
    "        return getMean()"
   ]
  },
  {
   "cell_type": "code",
   "execution_count": 31,
   "id": "65886ebb-e74b-4e94-bc21-f3bf88b0dcf0",
   "metadata": {},
   "outputs": [],
   "source": [
    "def RMSE(preds, labs):\n",
    "    dif = [(x-y)**2 for x,y in zip(preds, labs)]\n",
    "    return math.sqrt(sum(dif)/len(dif))"
   ]
  },
  {
   "cell_type": "markdown",
   "id": "c58807cc-8c3a-4ef7-b3b4-f1bee11bff6d",
   "metadata": {},
   "source": [
    "## Get train test"
   ]
  },
  {
   "cell_type": "code",
   "execution_count": 32,
   "id": "17240b66-83b5-4b87-b754-054e745e6f77",
   "metadata": {},
   "outputs": [],
   "source": [
    "Xtrain = ratingDict.keys()\n",
    "ytrain = ratingDict.values()\n",
    "\n",
    "testDict = {}\n",
    "for user, business, rating in zip(test['user_id'], test['business_id'], test['review_stars']):\n",
    "    testDict[(user, business)] = rating\n",
    "\n",
    "Xtest = testDict.keys()\n",
    "ytest = testDict.values()"
   ]
  },
  {
   "cell_type": "markdown",
   "id": "67d9b19c-0e50-4676-9fe9-cc176e017fb4",
   "metadata": {},
   "source": [
    "## Initialize params"
   ]
  },
  {
   "cell_type": "code",
   "execution_count": 33,
   "id": "bb86dc7e-f3eb-450c-b143-f9f1b1a22a74",
   "metadata": {},
   "outputs": [],
   "source": [
    "globalAverage = sum(ytrain) / len(ytrain)"
   ]
  },
  {
   "cell_type": "markdown",
   "id": "4b04e5f2-2193-4486-b39e-8ef85b6308dc",
   "metadata": {},
   "source": [
    "## Simple model"
   ]
  },
  {
   "cell_type": "code",
   "execution_count": 34,
   "id": "a1fb37ef-bde8-4624-ae1e-491c7191f584",
   "metadata": {},
   "outputs": [],
   "source": [
    "def simpleModel(n_it, lambda_):\n",
    "    alpha = globalAverage\n",
    "    beta_u = defaultdict(float)\n",
    "    beta_i = defaultdict(float)\n",
    "    for it in range(n_it):\n",
    "        ratings_sum = sum(ratingDict[(d[0], d[1])] - (beta_u[d[0]] + beta_i[d[1]]) for d in Xtrain)\n",
    "        alpha = ratings_sum / len(Xtrain)\n",
    "        \n",
    "        for u in businessPerUser:\n",
    "            ratings_sum = sum(ratingDict[(u, i)] - (alpha + beta_i[i]) for i in businessPerUser[u])\n",
    "            beta_u[u] = ratings_sum / (lambda_ + len(businessPerUser[u]))\n",
    "            \n",
    "        for i in usersPerBusiness:\n",
    "            ratings_sum = sum(ratingDict[(u, i)] - (alpha + beta_u[u]) for u in usersPerBusiness[i])\n",
    "            beta_i[i] = ratings_sum / (lambda_ + len(usersPerBusiness[i]))\n",
    "\n",
    "    return alpha, beta_u, beta_i"
   ]
  },
  {
   "cell_type": "code",
   "execution_count": 35,
   "id": "328010fa-284f-4ea9-8145-f332a20bb465",
   "metadata": {},
   "outputs": [],
   "source": [
    "def predict(alpha, beta_u, beta_i, data):\n",
    "    return [alpha + beta_u[d[0]] + beta_i[d[1]] for d in data]"
   ]
  },
  {
   "cell_type": "code",
   "execution_count": 36,
   "id": "87f734ce-6a41-410d-93f2-e02d708ce183",
   "metadata": {},
   "outputs": [],
   "source": [
    "alpha, beta_u, beta_i = simpleModel(2, 1)\n",
    "pred = predict(alpha, beta_u, beta_i, Xtest)"
   ]
  },
  {
   "cell_type": "code",
   "execution_count": 37,
   "id": "6d818d1e-c169-4a29-a4c3-51eae5fdb9a1",
   "metadata": {},
   "outputs": [
    {
     "data": {
      "text/plain": [
       "1.4389923814633618"
      ]
     },
     "execution_count": 37,
     "metadata": {},
     "output_type": "execute_result"
    }
   ],
   "source": [
    "RMSE(pred, ytest)"
   ]
  },
  {
   "cell_type": "markdown",
   "id": "e58f1aca-2d1c-4d4a-a4af-b2505839d827",
   "metadata": {},
   "source": [
    "### Tune model"
   ]
  },
  {
   "cell_type": "code",
   "execution_count": 38,
   "id": "773c864b-e803-4672-b16b-cdea2cd9d1e9",
   "metadata": {},
   "outputs": [
    {
     "name": "stdout",
     "output_type": "stream",
     "text": [
      "1.4265691438592876\n",
      "(1, 10)\n"
     ]
    }
   ],
   "source": [
    "n_its = [1]\n",
    "lambdas = [10]\n",
    "\n",
    "best_rmse = float(\"inf\")\n",
    "best_params = None\n",
    "\n",
    "for n_it, lambda_ in itertools.product(n_its, lambdas):\n",
    "    alpha, beta_u, beta_i = simpleModel(n_it, lambda_)\n",
    "    pred = predict(alpha, beta_u, beta_i, Xtest)\n",
    "    rmse = RMSE(pred, ytest)\n",
    "    if rmse < best_rmse:\n",
    "        best_rmse = rmse\n",
    "        best_params = (n_it, lambda_)\n",
    "\n",
    "print(best_rmse)\n",
    "print(best_params)"
   ]
  },
  {
   "cell_type": "markdown",
   "id": "0918d441-26bc-4e9f-a092-0a7f82a43b16",
   "metadata": {},
   "source": [
    "### Recommend using predictions"
   ]
  },
  {
   "cell_type": "code",
   "execution_count": 39,
   "id": "53fab7f7-a636-4e83-87bf-bf227ccc6275",
   "metadata": {},
   "outputs": [],
   "source": [
    "businesses_dict = dict(zip(df_business_data['business_id'], df_business_data['name']))\n",
    "unique_users = list(set(df_user_data['user_id']))"
   ]
  },
  {
   "cell_type": "code",
   "execution_count": 108,
   "id": "7092cd8a-4b4a-4348-a58e-bd762b50650d",
   "metadata": {},
   "outputs": [],
   "source": [
    "def recommend(user):\n",
    "    businesses = topSimilar(user, 4, 3, 5)\n",
    "    data = {(user, business) for business in businesses}\n",
    "    \n",
    "    alpha, beta_u, beta_i = simpleModel(best_params[0], best_params[1])\n",
    "    pred = predict(alpha, beta_u, beta_i, data)\n",
    "    \n",
    "    return list(zip([x[1] for x in data], pred))"
   ]
  },
  {
   "cell_type": "code",
   "execution_count": 138,
   "id": "f24e14a6-0378-4b50-9c12-fcff3b4c0f93",
   "metadata": {},
   "outputs": [],
   "source": [
    "def sort_get_names(recs):\n",
    "    sorted_recs = sorted(recs, key = lambda x: x[1], reverse = True)\n",
    "    return [businesses_dict[x[0]] for x in sorted_recs][:5]"
   ]
  },
  {
   "cell_type": "code",
   "execution_count": 139,
   "id": "d68b1612-470c-4a10-b47a-2a95d5a16990",
   "metadata": {},
   "outputs": [
    {
     "data": {
      "text/plain": [
       "[('qSTYyg_UYP1xQKVOy-7yQA',\n",
       "  ['DiBiase Heating & Cooling Company', \"Chef Macjon's\", \"Arby's\"]),\n",
       " ('1-fmrFh1OY5U1xV-YK782A', ['Lime Spa', 'Wedge Cheese Shop', 'Soak']),\n",
       " ('FGLxZRLF3a1gjM8-UOS_JA',\n",
       "  ['Hampton Inn & Suites Nashville @ Opryland',\n",
       "   'Subway',\n",
       "   'Cafe At Bobby',\n",
       "   'Michaels',\n",
       "   'Academy Sports + Outdoors']),\n",
       " ('_ywTsR_kZ681T2PyiMLFSA',\n",
       "  [\"Jeni's Splendid Ice Creams\",\n",
       "   'Cochon',\n",
       "   'Luke',\n",
       "   'Otaku Ramen',\n",
       "   'Rosepepper Mexican Grill']),\n",
       " ('8Lj6pkah532-jVdtr5Wtxw', []),\n",
       " ('YnXgIyOKCmJ-0E5g33swdQ', []),\n",
       " ('v6P-wNBuz7_b3DaejKi6iQ',\n",
       "  ['The Bunker Gun Shop', \"Feeney's\", 'Philadelphia Federal Credit Union']),\n",
       " ('jKWDbCV9G4-FEzjdd3PUgw',\n",
       "  [\"Michael's Bar & Grill\",\n",
       "   'The Gateway Arch',\n",
       "   'Serendipity Homemade Ice Cream',\n",
       "   'Red Kitchen and Bar',\n",
       "   'Strange Donuts']),\n",
       " ('sIookM05l3n-i84YcOaCvA', []),\n",
       " ('3Ht-0G76gJrDxnoXVPH9FA',\n",
       "  [\"Trader Joe's\",\n",
       "   'Cochon',\n",
       "   'Acme Oyster House',\n",
       "   'Burger Monger',\n",
       "   \"Mother's Restaurant\"])]"
      ]
     },
     "execution_count": 139,
     "metadata": {},
     "output_type": "execute_result"
    }
   ],
   "source": [
    "[(x, sort_get_names(recommend(x))) for x in unique_users[:10]]"
   ]
  },
  {
   "cell_type": "markdown",
   "id": "d12b30c4-b7da-4ccf-8c15-0f4d61d9e729",
   "metadata": {},
   "source": [
    "### Take care of empty recommendations"
   ]
  },
  {
   "cell_type": "code",
   "execution_count": 140,
   "id": "edcefc8d-83d8-4539-b763-d64005c8f791",
   "metadata": {},
   "outputs": [],
   "source": [
    "friends_dict = dict(zip(df_user_data['user_id'], df_user_data['friends']))"
   ]
  },
  {
   "cell_type": "code",
   "execution_count": 141,
   "id": "fb81afd2-6f32-4478-9fda-12eb8f8514e4",
   "metadata": {},
   "outputs": [],
   "source": [
    "def friend_recommend(user):\n",
    "    if len(reviewsPerUser[user]) == 0:\n",
    "        friends = friends_dict[user].split(\", \")\n",
    "        recs = []\n",
    "        i = 0\n",
    "        for friend in friends:\n",
    "            if len(reviewsPerUser[friend]) != 0 and i < 3:\n",
    "                i += 1\n",
    "                recs.append(recommend(friend))\n",
    "        return [x for sub in recs for x in sub]"
   ]
  },
  {
   "cell_type": "code",
   "execution_count": 146,
   "id": "4e157cc9-3726-4c2d-bd72-74af77feb16f",
   "metadata": {},
   "outputs": [],
   "source": [
    "final = [(x, sort_get_names(recommend(x))) if len(reviewsPerUser[x]) != 0 else (x, sort_get_names(friend_recommend(x))) for x in unique_users[:100]]"
   ]
  },
  {
   "cell_type": "code",
   "execution_count": 151,
   "id": "f5e09ef2-c73f-4cec-988c-d34899b2acc9",
   "metadata": {},
   "outputs": [],
   "source": [
    "final_recs = pd.DataFrame(final, columns = ['user_id', 'recommended_businesses'])\n",
    "final_recs['recommended_businesses'] = final_recs['recommended_businesses'].apply(lambda x: \", \".join(x))\n",
    "final_recs.to_csv(\"final_recommendations.csv\", index = False)"
   ]
  },
  {
   "cell_type": "code",
   "execution_count": null,
   "id": "153ef82c-701a-400c-9ef8-b6a49c41dc5f",
   "metadata": {},
   "outputs": [],
   "source": []
  }
 ],
 "metadata": {
  "kernelspec": {
   "display_name": "Python 3 (ipykernel)",
   "language": "python",
   "name": "python3"
  },
  "language_info": {
   "codemirror_mode": {
    "name": "ipython",
    "version": 3
   },
   "file_extension": ".py",
   "mimetype": "text/x-python",
   "name": "python",
   "nbconvert_exporter": "python",
   "pygments_lexer": "ipython3",
   "version": "3.11.9"
  }
 },
 "nbformat": 4,
 "nbformat_minor": 5
}
