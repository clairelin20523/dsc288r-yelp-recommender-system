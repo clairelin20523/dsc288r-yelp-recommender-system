{
 "cells": [
  {
   "cell_type": "markdown",
   "id": "43cfeec4-1805-4f3a-a313-7753732afefe",
   "metadata": {},
   "source": [
    "# Import libraries"
   ]
  },
  {
   "cell_type": "code",
   "execution_count": 1,
   "id": "a15f01c5-d2b1-4ce4-8aab-36e482b8fc2e",
   "metadata": {},
   "outputs": [],
   "source": [
    "import random\n",
    "import numpy as np\n",
    "import pandas as pd\n",
    "\n",
    "from sklearn.metrics import precision_score, recall_score\n",
    "from sklearn.feature_extraction.text import TfidfVectorizer\n",
    "\n",
    "from surprise import Dataset, Reader, SVD, KNNBasic, accuracy\n",
    "from surprise.model_selection import train_test_split, GridSearchCV\n",
    "from surprise.accuracy import rmse"
   ]
  },
  {
   "cell_type": "markdown",
   "id": "f37a8133-e539-4c34-9523-058381d2e3c3",
   "metadata": {},
   "source": [
    "# Load data"
   ]
  },
  {
   "cell_type": "code",
   "execution_count": 2,
   "id": "615612d0-e2a9-48fc-90fd-2ce32e549a06",
   "metadata": {},
   "outputs": [],
   "source": [
    "df_business_data = pd.read_json(\"yelp_academic_dataset_business.json\", lines=True)\n",
    "\n",
    "file_path = 'yelp_academic_dataset_review.json'\n",
    "\n",
    "chunk_size = 100000\n",
    "chunks = []\n",
    "for chunk in pd.read_json(file_path, lines=True, chunksize=chunk_size):\n",
    "    chunks.append(chunk)\n",
    "\n",
    "df_review_data = pd.concat(chunks, ignore_index=True)"
   ]
  },
  {
   "cell_type": "markdown",
   "id": "86c7ab1b-425f-45f4-a9fb-8d7a69a25c15",
   "metadata": {},
   "source": [
    "# Obtain negative samples"
   ]
  },
  {
   "cell_type": "markdown",
   "id": "b1ec615d-8863-482f-bb6c-d36cb7595b44",
   "metadata": {},
   "source": [
    "### Create a user id and business id pairs"
   ]
  },
  {
   "cell_type": "code",
   "execution_count": 3,
   "id": "2e07378b-5f0d-4686-baf8-ac864d46cc31",
   "metadata": {},
   "outputs": [
    {
     "name": "stdout",
     "output_type": "stream",
     "text": [
      "[('fyIYESjyhbnfRwpcJcFd7Q', 'wYdlP6g2y6gK_RmLrPhsGA'), ('1xFpt3S7c-8wkE18oG6QqA', 'H1FXzbmnMPXRfOrTo1qxKw'), ('2gIOVJFi6qhKxm6wTmuB-g', 'xJIeT5--AiPdvPb5BRflyQ'), ('vUxnuFH1NYQskixF__ICEg', 'RSOAZcjiShJkeMjZ1C0eKA'), ('lD6aiEdvZmvosmbRRWtD7A', 'H26zRyQkXXYzUZUOtppFcA'), ('fgmZp-kpG_ZKIVhG6SbgEg', 'tV46IhCfHbsx_af-pMupiw'), ('WlGHvDqe-P5HrDm1IofOTw', 'Zp72O1eR_uaE2xZ-tqM63g'), ('UnH5LH_-I2uio4ObVzuQ9w', 'e-M9xlXXQWIa1n6Jy8gEtA'), ('mzHN0S3C39hsjJJ53EuGEQ', 'wBFmEtHy7M3IuyY7asQu4w'), ('VWJ8PSz6Sg5_AlBvQyGvpw', 'Bg7D8LrsW9XbYlEhT9yekw')]\n"
     ]
    }
   ],
   "source": [
    "unique_users = df_review_data['user_id'].unique()\n",
    "unique_businesses = df_review_data['business_id'].unique()\n",
    "\n",
    "business_user_reviewed_set = set(zip(df_review_data['user_id'], df_review_data['business_id'])) \n",
    "print((list(business_user_reviewed_set)[:10]))"
   ]
  },
  {
   "cell_type": "markdown",
   "id": "0145eed4-4917-4e71-aee1-c749878205ea",
   "metadata": {},
   "source": [
    "### Get positive samples"
   ]
  },
  {
   "cell_type": "code",
   "execution_count": 4,
   "id": "0f4e33ed-ee3f-4e06-a965-d15fd863acc3",
   "metadata": {},
   "outputs": [
    {
     "data": {
      "text/html": [
       "<div>\n",
       "<style scoped>\n",
       "    .dataframe tbody tr th:only-of-type {\n",
       "        vertical-align: middle;\n",
       "    }\n",
       "\n",
       "    .dataframe tbody tr th {\n",
       "        vertical-align: top;\n",
       "    }\n",
       "\n",
       "    .dataframe thead th {\n",
       "        text-align: right;\n",
       "    }\n",
       "</style>\n",
       "<table border=\"1\" class=\"dataframe\">\n",
       "  <thead>\n",
       "    <tr style=\"text-align: right;\">\n",
       "      <th></th>\n",
       "      <th>user_id</th>\n",
       "      <th>business_id</th>\n",
       "      <th>reviewed</th>\n",
       "    </tr>\n",
       "  </thead>\n",
       "  <tbody>\n",
       "    <tr>\n",
       "      <th>0</th>\n",
       "      <td>fyIYESjyhbnfRwpcJcFd7Q</td>\n",
       "      <td>wYdlP6g2y6gK_RmLrPhsGA</td>\n",
       "      <td>1</td>\n",
       "    </tr>\n",
       "    <tr>\n",
       "      <th>1</th>\n",
       "      <td>1xFpt3S7c-8wkE18oG6QqA</td>\n",
       "      <td>H1FXzbmnMPXRfOrTo1qxKw</td>\n",
       "      <td>1</td>\n",
       "    </tr>\n",
       "    <tr>\n",
       "      <th>2</th>\n",
       "      <td>2gIOVJFi6qhKxm6wTmuB-g</td>\n",
       "      <td>xJIeT5--AiPdvPb5BRflyQ</td>\n",
       "      <td>1</td>\n",
       "    </tr>\n",
       "    <tr>\n",
       "      <th>3</th>\n",
       "      <td>vUxnuFH1NYQskixF__ICEg</td>\n",
       "      <td>RSOAZcjiShJkeMjZ1C0eKA</td>\n",
       "      <td>1</td>\n",
       "    </tr>\n",
       "    <tr>\n",
       "      <th>4</th>\n",
       "      <td>lD6aiEdvZmvosmbRRWtD7A</td>\n",
       "      <td>H26zRyQkXXYzUZUOtppFcA</td>\n",
       "      <td>1</td>\n",
       "    </tr>\n",
       "  </tbody>\n",
       "</table>\n",
       "</div>"
      ],
      "text/plain": [
       "                  user_id             business_id  reviewed\n",
       "0  fyIYESjyhbnfRwpcJcFd7Q  wYdlP6g2y6gK_RmLrPhsGA         1\n",
       "1  1xFpt3S7c-8wkE18oG6QqA  H1FXzbmnMPXRfOrTo1qxKw         1\n",
       "2  2gIOVJFi6qhKxm6wTmuB-g  xJIeT5--AiPdvPb5BRflyQ         1\n",
       "3  vUxnuFH1NYQskixF__ICEg  RSOAZcjiShJkeMjZ1C0eKA         1\n",
       "4  lD6aiEdvZmvosmbRRWtD7A  H26zRyQkXXYzUZUOtppFcA         1"
      ]
     },
     "execution_count": 4,
     "metadata": {},
     "output_type": "execute_result"
    }
   ],
   "source": [
    "train_data = pd.DataFrame(list(business_user_reviewed_set), columns=[\"user_id\", \"business_id\"])\n",
    "train_data[\"reviewed\"] = 1\n",
    "train_data.head()"
   ]
  },
  {
   "cell_type": "markdown",
   "id": "70945c48-4a42-466d-a87a-a2030769334d",
   "metadata": {},
   "source": [
    "### Obtain negative samples"
   ]
  },
  {
   "cell_type": "code",
   "execution_count": 5,
   "id": "e4e7bb66-fcb7-4047-b689-f9ca0c1444b8",
   "metadata": {},
   "outputs": [],
   "source": [
    "negative_samples = []\n",
    "for user in unique_users[:len(train_data)]:  \n",
    "    random_business = random.choice(unique_businesses)\n",
    "    while (user, random_business) in business_user_reviewed_set:\n",
    "        random_business = random.choice(unique_businesses)\n",
    "    negative_samples.append((user, random_business, 0))"
   ]
  },
  {
   "cell_type": "markdown",
   "id": "9dab6447-9f97-48a2-ad8a-7174063aa63c",
   "metadata": {},
   "source": [
    "### Combine samples and save to CSV"
   ]
  },
  {
   "cell_type": "code",
   "execution_count": 6,
   "id": "5ef579f6-ae04-4f0b-be99-2e877c53d626",
   "metadata": {},
   "outputs": [],
   "source": [
    "review_prediction_data = pd.concat([\n",
    "    train_data,\n",
    "    pd.DataFrame(negative_samples, columns=[\"user_id\", \"business_id\", \"reviewed\"])\n",
    "])\n",
    "\n",
    "review_prediction_data.to_csv(\"truedataset.csv\", index=False)"
   ]
  },
  {
   "cell_type": "markdown",
   "id": "a6476664-d825-40cc-881c-7e9c6c493adb",
   "metadata": {},
   "source": [
    "### Sample data to predict"
   ]
  },
  {
   "cell_type": "code",
   "execution_count": 7,
   "id": "bb131f8a-73cc-4ddd-af3d-75456229a35e",
   "metadata": {},
   "outputs": [],
   "source": [
    "data_review = review_prediction_data.sample(frac=0.2, random_state=42)[[\"user_id\", \"business_id\"]]\n",
    "data_review.to_csv(\"review.csv\", index=False)"
   ]
  },
  {
   "cell_type": "markdown",
   "id": "2d974629-7c3d-402e-9635-1c68805587dc",
   "metadata": {},
   "source": [
    "# Models"
   ]
  },
  {
   "cell_type": "markdown",
   "id": "c46110ed-ab94-4ec4-afe6-49f43ce1df35",
   "metadata": {},
   "source": [
    "## SVD - Binary"
   ]
  },
  {
   "cell_type": "markdown",
   "id": "53fc172d-f165-46df-807b-68f6f2e56651",
   "metadata": {},
   "source": [
    "### Load and split data"
   ]
  },
  {
   "cell_type": "code",
   "execution_count": 8,
   "id": "d1469731-fea0-4a1e-b827-e76d7e6d11a3",
   "metadata": {},
   "outputs": [],
   "source": [
    "reader = Reader(rating_scale=(0, 1)) # 0 not reviewed , 1  reviewed\n",
    "surprise_data = Dataset.load_from_df(review_prediction_data[[\"user_id\", \"business_id\", \"reviewed\"]], reader)\n",
    "\n",
    "trainset, testset = train_test_split(surprise_data, test_size=0.2)"
   ]
  },
  {
   "cell_type": "markdown",
   "id": "8ae01554-5cfd-4c2b-8a7e-634206d90901",
   "metadata": {},
   "source": [
    "### Fit SVD"
   ]
  },
  {
   "cell_type": "markdown",
   "id": "7ba9b579-e054-4812-af63-989dc5ebc5e8",
   "metadata": {
    "scrolled": true
   },
   "source": [
    "model = SVD()\n",
    "model.fit(trainset)\n",
    "predictions = model.test(testset)\n",
    "\n",
    "rmse(predictions)"
   ]
  },
  {
   "cell_type": "markdown",
   "id": "3ca14e83-45b4-4357-b83d-59c9f8f67954",
   "metadata": {},
   "source": [
    "### Tune params"
   ]
  },
  {
   "cell_type": "code",
   "execution_count": 9,
   "id": "ccd381c4-74f7-46ff-aabf-eda7c0e3ae6b",
   "metadata": {},
   "outputs": [
    {
     "name": "stdout",
     "output_type": "stream",
     "text": [
      "Best Params: {'n_factors': 25, 'n_epochs': 20, 'lr_all': 0.005, 'reg_all': 0.02}\n",
      "RMSE: 0.3634\n"
     ]
    },
    {
     "data": {
      "text/plain": [
       "0.3633573154447676"
      ]
     },
     "execution_count": 9,
     "metadata": {},
     "output_type": "execute_result"
    }
   ],
   "source": [
    "param_grid = {\n",
    "    \"n_factors\": [25],\n",
    "    \"n_epochs\": [20],\n",
    "    \"lr_all\": [0.005],\n",
    "    \"reg_all\": [0.02]\n",
    "}\n",
    "\n",
    "grid_search = GridSearchCV(SVD, param_grid, measures = [\"rmse\"], cv = 3)\n",
    "grid_search.fit(surprise_data)\n",
    "\n",
    "best_param = grid_search.best_params[\"rmse\"]\n",
    "\n",
    "print(\"Best Params:\", best_param)\n",
    "\n",
    "best_model = SVD(**best_param)\n",
    "best_model.fit(trainset)\n",
    "\n",
    "predictions = best_model.test(testset)\n",
    "\n",
    "rmse(predictions)"
   ]
  },
  {
   "cell_type": "markdown",
   "id": "dea3d1c8-33f2-47d2-b177-22b0b0c55def",
   "metadata": {},
   "source": [
    "### Save prediction"
   ]
  },
  {
   "cell_type": "code",
   "execution_count": 10,
   "id": "a34f25e8-b490-4f30-90fd-cc6085c51c4e",
   "metadata": {},
   "outputs": [],
   "source": [
    "prediction_svd_df = pd.DataFrame([(p.uid, p.iid, p.est) for p in predictions], columns=[\"user_id\", \"business_id\", \"predicted\"])\n",
    "prediction_svd_df.to_csv(\"predictions_review_svd.csv\", index=False)"
   ]
  },
  {
   "cell_type": "markdown",
   "id": "f418aa58-a24a-44c5-aa48-d68c01ee98af",
   "metadata": {},
   "source": [
    "## KNN - Binary"
   ]
  },
  {
   "cell_type": "markdown",
   "id": "85f753c1-b5f1-41f4-8b3f-2f20e5730031",
   "metadata": {},
   "source": [
    "### Load and split data"
   ]
  },
  {
   "cell_type": "code",
   "execution_count": null,
   "id": "2212736b-fc08-4b36-bd5e-2c6da2d0a76e",
   "metadata": {},
   "outputs": [],
   "source": [
    "review_prediction_data = pd.read_csv('truedataset.csv')\n",
    "filtered_df = review_prediction_data.groupby(\"user_id\").filter(lambda x: len(x) > 1)\n",
    "\n",
    "small_df = filtered_df.sample(n=30000, random_state=42) \n",
    "\n",
    "reader = Reader(rating_scale=(0, 1))\n",
    "surprise_data = Dataset.load_from_df(small_df[[\"user_id\", \"business_id\", \"reviewed\"]], reader)\n",
    "trainset, testset = train_test_split(surprise_data, test_size=0.2, random_state=42)"
   ]
  },
  {
   "cell_type": "markdown",
   "id": "1a2a3cfa-9393-40b1-bd89-b326c59f6df0",
   "metadata": {},
   "source": [
    "### Fit KNN"
   ]
  },
  {
   "cell_type": "markdown",
   "id": "d377b680-b8c2-4be9-b0c2-efcde48aa16f",
   "metadata": {},
   "source": [
    "sim_options = {\"name\": \"cosine\", \"user_based\": True, \"k\": 5,\"min_support\": 2}  \n",
    "model = KNNBasic(sim_options=sim_options)\n",
    "model.fit(trainset)\n",
    "predictions = model.test(testset)\n",
    "\n",
    "rmse = accuracy.rmse(predictions)\n",
    "print(\"RMSE:\", rmse)"
   ]
  },
  {
   "cell_type": "markdown",
   "id": "a1fb220a-ae69-422a-8600-82c7122db993",
   "metadata": {},
   "source": [
    "### Tune params"
   ]
  },
  {
   "cell_type": "code",
   "execution_count": null,
   "id": "2afc41a1-cf24-4df6-bc93-2d07edce0628",
   "metadata": {},
   "outputs": [],
   "source": [
    "param_grid = {\n",
    "    \"name\": [\"cosine\"],\n",
    "    \"user_based\": [True],\n",
    "    \"k\": [5],\n",
    "    \"min_support\": [1]\n",
    "}\n",
    "\n",
    "grid_search = GridSearchCV(KNNBasic, param_grid, measures = [\"rmse\"], cv = 3)\n",
    "grid_search.fit(surprise_data)\n",
    "\n",
    "best_param = grid_search.best_params[\"rmse\"]\n",
    "\n",
    "print(\"Best Params:\", best_param)\n",
    "\n",
    "best_model = KNNBasic(**best_param)\n",
    "best_model.fit(trainset)\n",
    "\n",
    "predictions = best_model.test(testset)\n",
    "\n",
    "rmse = accuracy.rmse(predictions)"
   ]
  },
  {
   "cell_type": "markdown",
   "id": "9bb41ef4-6988-4b2a-82d5-458a55a51ded",
   "metadata": {},
   "source": [
    "### Save predictions"
   ]
  },
  {
   "cell_type": "code",
   "execution_count": null,
   "id": "22efd699-7d97-437b-8d98-269aec931bb0",
   "metadata": {},
   "outputs": [],
   "source": [
    "predictions_df = pd.DataFrame([(pred.uid, pred.iid, pred.est) for pred in predictions], \n",
    "                              columns=[\"user_id\", \"business_id\", \"predicted_reviewed\"])\n",
    "predictions_df.to_csv(\"knn_basic_review_predictions_small.csv\", index=False)\n",
    "print(\"Predictions saved to knn_basic_review_predictions_small.csv\")"
   ]
  },
  {
   "cell_type": "markdown",
   "id": "1bb4dc29-b648-4f82-8ec5-c3c59a370959",
   "metadata": {},
   "source": [
    "## SVD - Rating"
   ]
  },
  {
   "cell_type": "markdown",
   "id": "a69a7d4c-3d82-4152-92ac-828f6031c7ef",
   "metadata": {},
   "source": [
    "### Load and split data"
   ]
  },
  {
   "cell_type": "code",
   "execution_count": 14,
   "id": "af3563f1-00bb-4dd7-9c75-3186f8da4295",
   "metadata": {},
   "outputs": [],
   "source": [
    "train_ratings = df_review_data[[\"user_id\", \"business_id\", \"stars\"]]\n",
    "test_ratings = train_ratings.sample(frac=0.2, random_state=42)[[\"user_id\", \"business_id\"]]\n",
    "test_ratings.to_csv(\"rating.csv\", index=False)\n",
    "\n",
    "review_data = train_ratings\n",
    "\n",
    "reader = Reader(rating_scale=(1, 5)) \n",
    "data = Dataset.load_from_df(review_data[[\"user_id\", \"business_id\", \"stars\"]], reader)\n",
    "trainset, testset = train_test_split(data, test_size=0.2, random_state=42)"
   ]
  },
  {
   "cell_type": "markdown",
   "id": "0f8d0213-b65e-427a-a998-e8c8578ee332",
   "metadata": {},
   "source": [
    "### Fit SVD"
   ]
  },
  {
   "cell_type": "markdown",
   "id": "deadeb72-5ed7-4b73-a73c-75864fe89f68",
   "metadata": {},
   "source": [
    "model = SVD()\n",
    "model.fit(trainset)\n",
    "predictions = model.test(testset)\n",
    "rmse = accuracy.rmse(predictions)\n",
    "print(\"RMSE:\", rmse)"
   ]
  },
  {
   "cell_type": "markdown",
   "id": "9f062abe-7596-4c77-a656-411b2ffbcec3",
   "metadata": {},
   "source": [
    "### Tune params"
   ]
  },
  {
   "cell_type": "code",
   "execution_count": 15,
   "id": "e31503eb-a248-4542-87fd-e07a142c58ad",
   "metadata": {
    "scrolled": true
   },
   "outputs": [
    {
     "name": "stdout",
     "output_type": "stream",
     "text": [
      "Best Params: {'n_factors': 25, 'n_epochs': 20, 'lr_all': 0.005, 'reg_all': 0.02}\n",
      "RMSE: 1.2790\n"
     ]
    }
   ],
   "source": [
    "param_grid = {\n",
    "    \"n_factors\": [25],\n",
    "    \"n_epochs\": [20],\n",
    "    \"lr_all\": [0.005],\n",
    "    \"reg_all\": [0.02]\n",
    "}\n",
    "\n",
    "grid_search = GridSearchCV(SVD, param_grid, measures = [\"rmse\"], cv = 3)\n",
    "grid_search.fit(data)\n",
    "\n",
    "best_param = grid_search.best_params[\"rmse\"]\n",
    "\n",
    "print(\"Best Params:\", best_param)\n",
    "\n",
    "best_model = SVD(**best_param)\n",
    "best_model.fit(trainset)\n",
    "\n",
    "predictions = best_model.test(testset)\n",
    "\n",
    "rmse = accuracy.rmse(predictions)"
   ]
  },
  {
   "cell_type": "markdown",
   "id": "b252c0c2-5e7b-4fb8-9f49-1d31e2f2f396",
   "metadata": {},
   "source": [
    "### Save predictions"
   ]
  },
  {
   "cell_type": "code",
   "execution_count": 16,
   "id": "9df55e20-cf3f-48f2-b1c3-3a8bc3da33f5",
   "metadata": {},
   "outputs": [],
   "source": [
    "predictions_df = pd.DataFrame([(pred.uid, pred.iid, pred.est) for pred in predictions], \n",
    "                              columns=[\"user_id\", \"business_id\", \"predicted_stars\"])\n",
    "predictions_df.to_csv(\"svd_rating_predictions.csv\", index=False)"
   ]
  },
  {
   "cell_type": "markdown",
   "id": "2598e4ec-3554-4709-962c-978b3be600db",
   "metadata": {},
   "source": [
    "## KNN - Rating"
   ]
  },
  {
   "cell_type": "markdown",
   "id": "d98a559b-8cd9-4a12-a1f1-0c1916c66096",
   "metadata": {},
   "source": [
    "### Load and split data"
   ]
  },
  {
   "cell_type": "code",
   "execution_count": 17,
   "id": "1f169683-2daa-494e-a536-7b944b4f2b43",
   "metadata": {},
   "outputs": [],
   "source": [
    "filtered_df = review_data.groupby(\"user_id\").filter(lambda x: len(x) > 1)\n",
    "small_df = filtered_df.sample(n=5000, random_state=42)\n",
    "reader = Reader(rating_scale=(1, 5))\n",
    "surprise_data = Dataset.load_from_df(small_df[[\"user_id\", \"business_id\", \"stars\"]], reader)\n",
    "\n",
    "trainset, testset = train_test_split(surprise_data, test_size=0.2, random_state=42)"
   ]
  },
  {
   "cell_type": "markdown",
   "id": "b36b2a31-089b-49fd-be4a-2be02b587874",
   "metadata": {},
   "source": [
    "### Fit KNN"
   ]
  },
  {
   "cell_type": "markdown",
   "id": "7e038f1c-2440-4625-88e8-9e7b366f862b",
   "metadata": {},
   "source": [
    "sim_options = {\"name\": \"cosine\", \"user_based\": True, \"k\": 5, \"min_support\": 2}\n",
    "model = KNNBasic(sim_options=sim_options)\n",
    "model.fit(trainset)\n",
    "predictions = model.test(testset)\n",
    "rmse = accuracy.rmse(predictions)\n",
    "print(\"RMSE:\", rmse)"
   ]
  },
  {
   "cell_type": "markdown",
   "id": "ab52b8be-4562-4979-b203-d6cbc4c74f04",
   "metadata": {},
   "source": [
    "### Tune params"
   ]
  },
  {
   "cell_type": "code",
   "execution_count": 18,
   "id": "8fe5b41d-5788-40fc-905b-67698c166ed7",
   "metadata": {},
   "outputs": [
    {
     "name": "stdout",
     "output_type": "stream",
     "text": [
      "Computing the msd similarity matrix...\n",
      "Done computing similarity matrix.\n",
      "Computing the msd similarity matrix...\n",
      "Done computing similarity matrix.\n",
      "Computing the msd similarity matrix...\n",
      "Done computing similarity matrix.\n",
      "Best Params: {'name': 'cosine', 'user_based': True, 'k': 5, 'min_support': 1}\n",
      "Computing the msd similarity matrix...\n",
      "Done computing similarity matrix.\n",
      "RMSE: 1.4651\n"
     ]
    }
   ],
   "source": [
    "param_grid = {\n",
    "    \"name\": [\"cosine\"],\n",
    "    \"user_based\": [True],\n",
    "    \"k\": [5],\n",
    "    \"min_support\": [1]\n",
    "}\n",
    "\n",
    "grid_search = GridSearchCV(KNNBasic, param_grid, measures = [\"rmse\"], cv = 3)\n",
    "grid_search.fit(surprise_data)\n",
    "\n",
    "best_param_ = grid_search.best_params[\"rmse\"]\n",
    "\n",
    "print(\"Best Params:\", best_param_)\n",
    "\n",
    "best_model = KNNBasic(**best_param_)\n",
    "best_model.fit(trainset)\n",
    "\n",
    "predictions = best_model.test(testset)\n",
    "\n",
    "rmse = accuracy.rmse(predictions)"
   ]
  },
  {
   "cell_type": "markdown",
   "id": "cb88c044-c5a3-45ce-960c-aa37f4b56074",
   "metadata": {},
   "source": [
    "### Save predictions"
   ]
  },
  {
   "cell_type": "code",
   "execution_count": 19,
   "id": "14ae42fc-164f-4c8c-8540-a20047abe825",
   "metadata": {},
   "outputs": [],
   "source": [
    "predictions_df = pd.DataFrame([(pred.uid, pred.iid, pred.est) for pred in predictions], \n",
    "                              columns=[\"user_id\", \"business_id\", \"predicted_rating\"])\n",
    "predictions_df.to_csv(\"knn_rating_predictions.csv\", index=False)"
   ]
  },
  {
   "cell_type": "markdown",
   "id": "cfe72a1d-54e9-49a9-98cb-002b2bed39ff",
   "metadata": {},
   "source": [
    "## Category Analysis"
   ]
  },
  {
   "cell_type": "code",
   "execution_count": 20,
   "id": "4910a77c-18ee-4f39-bc49-e9e4c0e448f0",
   "metadata": {},
   "outputs": [
    {
     "name": "stderr",
     "output_type": "stream",
     "text": [
      "/opt/conda/lib/python3.11/site-packages/sklearn/feature_extraction/text.py:525: UserWarning: The parameter 'token_pattern' will not be used since 'tokenizer' is not None'\n",
      "  warnings.warn(\n"
     ]
    },
    {
     "name": "stdout",
     "output_type": "stream",
     "text": [
      "minimized_category\n",
      "Burgers           2375\n",
      "Nail Salons       2083\n",
      "Pizza             2009\n",
      "Italian           1918\n",
      "Mexican           1872\n",
      "                  ... \n",
      "Cucina campana       1\n",
      "Dart Arenas          1\n",
      "Circus Schools       1\n",
      "Bubble Soccer        1\n",
      "Trade Fairs          1\n",
      "Name: count, Length: 1305, dtype: int64\n"
     ]
    }
   ],
   "source": [
    "df_business_data[\"categories\"] = df_business_data[\"categories\"].fillna(\"\")\n",
    "vectorizer = TfidfVectorizer(tokenizer=lambda x: x.split(\", \"), lowercase=False)\n",
    "tfidf_matrix = vectorizer.fit_transform(df_business_data[\"categories\"])\n",
    "category_names = vectorizer.get_feature_names_out()\n",
    "tfidf_df = pd.DataFrame(tfidf_matrix.toarray(), columns=category_names, index=df_business_data.index)\n",
    "df_business_data[\"minimized_category\"] = tfidf_df.idxmax(axis=1)\n",
    "\n",
    "#print(df_business_data[[\"business_id\", \"categories\", \"minimized_category\"]])\n",
    "category_counts = df_business_data[\"minimized_category\"].value_counts()\n",
    "print(category_counts)"
   ]
  },
  {
   "cell_type": "markdown",
   "id": "68de7ded-8072-4d1c-8897-2fec8bb874cf",
   "metadata": {},
   "source": [
    "## Final SVD Model"
   ]
  },
  {
   "cell_type": "markdown",
   "id": "74422852-87c1-4536-9570-57e17717665a",
   "metadata": {},
   "source": [
    "### Load and split data"
   ]
  },
  {
   "cell_type": "code",
   "execution_count": 21,
   "id": "96489452-0618-40e0-bbd0-e408be7d1ef9",
   "metadata": {},
   "outputs": [],
   "source": [
    "df_review_data = df_review_data[[\"user_id\", \"business_id\", \"stars\"]]\n",
    "df_business_data = df_business_data[[\"business_id\", \"minimized_category\", \"name\"]]\n",
    "df_review_data = df_review_data.merge(df_business_data, on=\"business_id\")\n",
    "\n",
    "reader = Reader(rating_scale=(1, 5))\n",
    "surprise_data = Dataset.load_from_df(df_review_data[[\"user_id\", \"business_id\", \"stars\"]], reader)\n",
    "trainset, testset = train_test_split(surprise_data, test_size=0.2)"
   ]
  },
  {
   "cell_type": "markdown",
   "id": "61a2455b-654c-427c-b53e-0dc90cdf2421",
   "metadata": {},
   "source": [
    "### Fit final SVD with best params"
   ]
  },
  {
   "cell_type": "code",
   "execution_count": 22,
   "id": "c8836122-2a7c-41c3-8222-96ac87bd0620",
   "metadata": {},
   "outputs": [],
   "source": [
    "model = SVD(**best_param)\n",
    "model.fit(trainset)\n",
    "\n",
    "predictions = model.test(testset)\n",
    "predictions_df = pd.DataFrame([(pred.uid, pred.iid, pred.est) for pred in predictions], \n",
    "                              columns=[\"user_id\", \"business_id\", \"predicted_rating\"])\n",
    "\n",
    "predictions_df = predictions_df.merge(df_business_data, on=\"business_id\")"
   ]
  },
  {
   "cell_type": "markdown",
   "id": "92816829-2ec1-415b-8a44-efecb60452a6",
   "metadata": {},
   "source": [
    "### Generate recommendation"
   ]
  },
  {
   "cell_type": "code",
   "execution_count": 23,
   "id": "de57661f-7c22-47da-9b91-f6431c1f878c",
   "metadata": {},
   "outputs": [],
   "source": [
    "N = 5\n",
    "predictions_df = predictions_df.sort_values([\"user_id\", \"predicted_rating\"], ascending=[True, False])\n",
    "top_n_recommendations = predictions_df.groupby(\"user_id\").head(N)\n",
    "\n",
    "italian_reviews = df_review_data[df_review_data[\"minimized_category\"] == \"Italian\"]\n",
    "user_italian_counts = italian_reviews.groupby(\"user_id\").size().reset_index(name=\"count\")\n",
    "low_review_italian_users = user_italian_counts[user_italian_counts[\"count\"] <= 3][\"user_id\"]\n",
    "\n",
    "filtered_recommendations = top_n_recommendations[\n",
    "    (top_n_recommendations[\"user_id\"].isin(low_review_italian_users)) &\n",
    "    (top_n_recommendations[\"minimized_category\"] == \"Italian\")\n",
    "]"
   ]
  },
  {
   "cell_type": "markdown",
   "id": "2a19c472-1307-4355-bc11-6cbd9a0cf6c7",
   "metadata": {},
   "source": [
    "### Evaluate"
   ]
  },
  {
   "cell_type": "code",
   "execution_count": 24,
   "id": "a9c0749e-2ddc-4336-96ed-f3f17378ba46",
   "metadata": {},
   "outputs": [
    {
     "name": "stdout",
     "output_type": "stream",
     "text": [
      "Precision: 0.1973\n",
      "Recall: 0.1799\n",
      "Hit Rate: 0.1973\n",
      "User ID: ---r61b7EpVPkb4UVme5tA\n",
      "Reviewed Italian Restaurants: {\"Angelo's Pizza\"}\n",
      "Recommended Italian Restaurants: {'Cafe Giardino'}\n",
      "--------------------------------------------------\n",
      "User ID: --1zDxbpfa486HyfyV8a-g\n",
      "Reviewed Italian Restaurants: {\"Cacicia's Old World Sicilian Foods\"}\n",
      "Recommended Italian Restaurants: {'Tana at Treo'}\n",
      "--------------------------------------------------\n",
      "User ID: --3WaS23LcIXtxyFULJHTA\n",
      "Reviewed Italian Restaurants: {'Pamfilios', 'Sangiovese Ristorante'}\n",
      "Recommended Italian Restaurants: {'Tana at Treo'}\n",
      "--------------------------------------------------\n",
      "User ID: --4AjktZiHowEIBCMd4CZA\n",
      "Reviewed Italian Restaurants: {\"Matt & Marie's\"}\n",
      "Recommended Italian Restaurants: {'Tana at Treo'}\n",
      "--------------------------------------------------\n",
      "User ID: --7SMrwYYu5xniXjBGdWhw\n",
      "Reviewed Italian Restaurants: {\"Alfredo's Italian Cuisine\"}\n",
      "Recommended Italian Restaurants: {\"Alfredo's Italian Cuisine\"}\n",
      "--------------------------------------------------\n",
      "User ID: --9jUPPYMRSnJKlOskyyDA\n",
      "Reviewed Italian Restaurants: {\"Peppe's Apt 2\"}\n",
      "Recommended Italian Restaurants: {'Amaretto Ristorante'}\n",
      "--------------------------------------------------\n",
      "User ID: --A15Rp8LJspfurczGgH1w\n",
      "Reviewed Italian Restaurants: {\"Mama's Famous Pizza & Heros\"}\n",
      "Recommended Italian Restaurants: {\"Mama's Famous Pizza & Heros\"}\n",
      "--------------------------------------------------\n",
      "User ID: --B4MfqBxNuXX8ujyh8VXg\n",
      "Reviewed Italian Restaurants: {'Cibare Italian Kitchen'}\n",
      "Recommended Italian Restaurants: {'Tana at Treo'}\n",
      "--------------------------------------------------\n",
      "User ID: --BL2YwAB7he2PrDIg31VQ\n",
      "Reviewed Italian Restaurants: {'Limoncello - Chester Springs'}\n",
      "Recommended Italian Restaurants: {'Cafe Giardino'}\n",
      "--------------------------------------------------\n",
      "User ID: --JfSCDuT5nsXCosHl5-IA\n",
      "Reviewed Italian Restaurants: {'il Sugo Italian Kitchen', \"Louie's Pizza and Italian Restaurant\"}\n",
      "Recommended Italian Restaurants: {\"Louie's Pizza and Italian Restaurant\"}\n",
      "--------------------------------------------------\n"
     ]
    }
   ],
   "source": [
    "actual_italian = df_review_data[df_review_data[\"minimized_category\"] == \"Italian\"]\n",
    "actual_italian_users = actual_italian.groupby(\"user_id\")[\"name\"].apply(set).reset_index()\n",
    "recommended_italian_users = filtered_recommendations.groupby(\"user_id\")[\"name\"].apply(set).reset_index()\n",
    "\n",
    "merged = actual_italian_users.merge(recommended_italian_users, on=\"user_id\", how=\"outer\", suffixes=(\"_actual\", \"_predicted\"))\n",
    "merged[\"name_actual\"] = merged[\"name_actual\"].apply(lambda x: x if isinstance(x, set) else set())\n",
    "merged[\"name_predicted\"] = merged[\"name_predicted\"].apply(lambda x: x if isinstance(x, set) else set())\n",
    "\n",
    "merged[\"true_positives\"] = merged.apply(lambda x: len(x[\"name_actual\"] & x[\"name_predicted\"]), axis=1)\n",
    "merged[\"precision\"] = merged[\"true_positives\"] / merged[\"name_predicted\"].apply(lambda x: max(1, len(x)))\n",
    "merged[\"recall\"] = merged[\"true_positives\"] / merged[\"name_actual\"].apply(lambda x: max(1, len(x)))\n",
    "\n",
    "avg_precision = merged[\"precision\"].mean()\n",
    "avg_recall = merged[\"recall\"].mean()\n",
    "hit_rate = (merged[\"true_positives\"] > 0).mean()\n",
    "\n",
    "print(f\"Precision: {avg_precision:.4f}\")\n",
    "print(f\"Recall: {avg_recall:.4f}\")\n",
    "print(f\"Hit Rate: {hit_rate:.4f}\")\n",
    "\n",
    "global_top_italian = df_review_data[df_review_data[\"minimized_category\"] == \"Italian\"].groupby(\"name\")[\"stars\"].mean().reset_index()\n",
    "global_top_italian = global_top_italian.sort_values(\"stars\", ascending=False).head(5)  # Take top 5 highest-rated Italian places\n",
    "\n",
    "def get_fallback_recommendation():\n",
    "    return np.random.choice(global_top_italian[\"name\"].values)\n",
    "\n",
    "for idx, row in merged.head(10).iterrows():\n",
    "    recommended_names = row[\"name_predicted\"] if row[\"name_predicted\"] else {get_fallback_recommendation()}\n",
    "    print(f\"User ID: {row['user_id']}\")\n",
    "    print(f\"Reviewed Italian Restaurants: {row['name_actual']}\")\n",
    "    print(f\"Recommended Italian Restaurants: {recommended_names}\")\n",
    "    print(\"-\" * 50)"
   ]
  }
 ],
 "metadata": {
  "kernelspec": {
   "display_name": "Python 3 (ipykernel)",
   "language": "python",
   "name": "python3"
  },
  "language_info": {
   "codemirror_mode": {
    "name": "ipython",
    "version": 3
   },
   "file_extension": ".py",
   "mimetype": "text/x-python",
   "name": "python",
   "nbconvert_exporter": "python",
   "pygments_lexer": "ipython3",
   "version": "3.11.9"
  }
 },
 "nbformat": 4,
 "nbformat_minor": 5
}
